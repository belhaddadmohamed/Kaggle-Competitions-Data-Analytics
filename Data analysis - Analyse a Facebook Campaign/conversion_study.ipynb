{
 "cells": [
  {
   "cell_type": "markdown",
   "id": "9e45bf08",
   "metadata": {},
   "source": [
    "#### Author: Mr. M.Belhaddad\n",
    "#### 📂 Notebook Structure\n",
    "\n",
    "#### ✅ Step 1: Data Wrangling\n",
    "- Load dataset\n",
    "- Check missing values & duplicates\n",
    "- Validate data types\n",
    "- Create new metrics:\n",
    "  - CTR (Click-Through Rate)\n",
    "  - CPC (Cost Per Click)\n",
    "  - CPA (Cost Per Acquisition)\n",
    "- Summary statistics & distributions\n",
    "\n",
    "#### ✅ Step 2: Data Analysis (EDA)\n",
    "- **Univariate analysis:** distributions of numeric features\n",
    "- **Bivariate analysis:** CTR by age, gender, interest\n",
    "- **Aggregations:** performance by campaign, age group, gender\n",
    "- **Correlation analysis:** heatmap\n",
    "- Visual insights with **Seaborn**/**Matplotlib**\n",
    "\n",
    "#### ✅ Step 3: Insights & Recommendations\n",
    "- High-performing segments\n",
    "- Low-performing campaigns\n",
    "- Cost efficiency (CPC, CPA)\n"
   ]
  },
  {
   "cell_type": "code",
   "execution_count": 746,
   "id": "66f1ec4f",
   "metadata": {},
   "outputs": [],
   "source": [
    "import pandas as  pd\n",
    "import numpy as np\n",
    "import matplotlib.pyplot as plt\n",
    "import seaborn as sns"
   ]
  },
  {
   "cell_type": "code",
   "execution_count": 747,
   "id": "69595b20",
   "metadata": {},
   "outputs": [],
   "source": [
    "pd.set_option('display.float_format', lambda x: '%.3f' % x)"
   ]
  },
  {
   "cell_type": "code",
   "execution_count": 748,
   "id": "d5641670",
   "metadata": {},
   "outputs": [
    {
     "data": {
      "text/html": [
       "<div>\n",
       "<style scoped>\n",
       "    .dataframe tbody tr th:only-of-type {\n",
       "        vertical-align: middle;\n",
       "    }\n",
       "\n",
       "    .dataframe tbody tr th {\n",
       "        vertical-align: top;\n",
       "    }\n",
       "\n",
       "    .dataframe thead th {\n",
       "        text-align: right;\n",
       "    }\n",
       "</style>\n",
       "<table border=\"1\" class=\"dataframe\">\n",
       "  <thead>\n",
       "    <tr style=\"text-align: right;\">\n",
       "      <th></th>\n",
       "      <th>ad_id</th>\n",
       "      <th>xyz_campaign_id</th>\n",
       "      <th>fb_campaign_id</th>\n",
       "      <th>age</th>\n",
       "      <th>gender</th>\n",
       "      <th>interest</th>\n",
       "      <th>Impressions</th>\n",
       "      <th>Clicks</th>\n",
       "      <th>Spent</th>\n",
       "      <th>Total_Conversion</th>\n",
       "      <th>Approved_Conversion</th>\n",
       "    </tr>\n",
       "  </thead>\n",
       "  <tbody>\n",
       "    <tr>\n",
       "      <th>0</th>\n",
       "      <td>708746</td>\n",
       "      <td>916</td>\n",
       "      <td>103916</td>\n",
       "      <td>30-34</td>\n",
       "      <td>M</td>\n",
       "      <td>15</td>\n",
       "      <td>7350</td>\n",
       "      <td>1</td>\n",
       "      <td>1.430</td>\n",
       "      <td>2</td>\n",
       "      <td>1</td>\n",
       "    </tr>\n",
       "    <tr>\n",
       "      <th>1</th>\n",
       "      <td>708749</td>\n",
       "      <td>916</td>\n",
       "      <td>103917</td>\n",
       "      <td>30-34</td>\n",
       "      <td>M</td>\n",
       "      <td>16</td>\n",
       "      <td>17861</td>\n",
       "      <td>2</td>\n",
       "      <td>1.820</td>\n",
       "      <td>2</td>\n",
       "      <td>0</td>\n",
       "    </tr>\n",
       "    <tr>\n",
       "      <th>2</th>\n",
       "      <td>708771</td>\n",
       "      <td>916</td>\n",
       "      <td>103920</td>\n",
       "      <td>30-34</td>\n",
       "      <td>M</td>\n",
       "      <td>20</td>\n",
       "      <td>693</td>\n",
       "      <td>0</td>\n",
       "      <td>0.000</td>\n",
       "      <td>1</td>\n",
       "      <td>0</td>\n",
       "    </tr>\n",
       "    <tr>\n",
       "      <th>3</th>\n",
       "      <td>708815</td>\n",
       "      <td>916</td>\n",
       "      <td>103928</td>\n",
       "      <td>30-34</td>\n",
       "      <td>M</td>\n",
       "      <td>28</td>\n",
       "      <td>4259</td>\n",
       "      <td>1</td>\n",
       "      <td>1.250</td>\n",
       "      <td>1</td>\n",
       "      <td>0</td>\n",
       "    </tr>\n",
       "    <tr>\n",
       "      <th>4</th>\n",
       "      <td>708818</td>\n",
       "      <td>916</td>\n",
       "      <td>103928</td>\n",
       "      <td>30-34</td>\n",
       "      <td>M</td>\n",
       "      <td>28</td>\n",
       "      <td>4133</td>\n",
       "      <td>1</td>\n",
       "      <td>1.290</td>\n",
       "      <td>1</td>\n",
       "      <td>1</td>\n",
       "    </tr>\n",
       "  </tbody>\n",
       "</table>\n",
       "</div>"
      ],
      "text/plain": [
       "    ad_id  xyz_campaign_id  fb_campaign_id    age gender  interest  \\\n",
       "0  708746              916          103916  30-34      M        15   \n",
       "1  708749              916          103917  30-34      M        16   \n",
       "2  708771              916          103920  30-34      M        20   \n",
       "3  708815              916          103928  30-34      M        28   \n",
       "4  708818              916          103928  30-34      M        28   \n",
       "\n",
       "   Impressions  Clicks  Spent  Total_Conversion  Approved_Conversion  \n",
       "0         7350       1  1.430                 2                    1  \n",
       "1        17861       2  1.820                 2                    0  \n",
       "2          693       0  0.000                 1                    0  \n",
       "3         4259       1  1.250                 1                    0  \n",
       "4         4133       1  1.290                 1                    1  "
      ]
     },
     "execution_count": 748,
     "metadata": {},
     "output_type": "execute_result"
    }
   ],
   "source": [
    "df = pd.read_csv('data/conversion.csv')\n",
    "df.head(5)"
   ]
  },
  {
   "cell_type": "markdown",
   "id": "84f40d25",
   "metadata": {},
   "source": [
    "# 🕵️‍♂️ 1. Data Wrangling"
   ]
  },
  {
   "cell_type": "markdown",
   "id": "6574bf0c",
   "metadata": {},
   "source": [
    "### ✅ Step 1: Inspect Data"
   ]
  },
  {
   "cell_type": "code",
   "execution_count": 749,
   "id": "9a25ce94",
   "metadata": {},
   "outputs": [
    {
     "data": {
      "text/plain": [
       "(1143, 11)"
      ]
     },
     "execution_count": 749,
     "metadata": {},
     "output_type": "execute_result"
    }
   ],
   "source": [
    "df.shape"
   ]
  },
  {
   "cell_type": "code",
   "execution_count": 750,
   "id": "9b217191",
   "metadata": {},
   "outputs": [
    {
     "name": "stdout",
     "output_type": "stream",
     "text": [
      "<class 'pandas.core.frame.DataFrame'>\n",
      "RangeIndex: 1143 entries, 0 to 1142\n",
      "Data columns (total 11 columns):\n",
      " #   Column               Non-Null Count  Dtype  \n",
      "---  ------               --------------  -----  \n",
      " 0   ad_id                1143 non-null   int64  \n",
      " 1   xyz_campaign_id      1143 non-null   int64  \n",
      " 2   fb_campaign_id       1143 non-null   int64  \n",
      " 3   age                  1143 non-null   object \n",
      " 4   gender               1143 non-null   object \n",
      " 5   interest             1143 non-null   int64  \n",
      " 6   Impressions          1143 non-null   int64  \n",
      " 7   Clicks               1143 non-null   int64  \n",
      " 8   Spent                1143 non-null   float64\n",
      " 9   Total_Conversion     1143 non-null   int64  \n",
      " 10  Approved_Conversion  1143 non-null   int64  \n",
      "dtypes: float64(1), int64(8), object(2)\n",
      "memory usage: 98.4+ KB\n"
     ]
    }
   ],
   "source": [
    "df.info()"
   ]
  },
  {
   "cell_type": "code",
   "execution_count": 751,
   "id": "d9797b2f",
   "metadata": {},
   "outputs": [
    {
     "data": {
      "text/html": [
       "<div>\n",
       "<style scoped>\n",
       "    .dataframe tbody tr th:only-of-type {\n",
       "        vertical-align: middle;\n",
       "    }\n",
       "\n",
       "    .dataframe tbody tr th {\n",
       "        vertical-align: top;\n",
       "    }\n",
       "\n",
       "    .dataframe thead th {\n",
       "        text-align: right;\n",
       "    }\n",
       "</style>\n",
       "<table border=\"1\" class=\"dataframe\">\n",
       "  <thead>\n",
       "    <tr style=\"text-align: right;\">\n",
       "      <th></th>\n",
       "      <th>ad_id</th>\n",
       "      <th>xyz_campaign_id</th>\n",
       "      <th>fb_campaign_id</th>\n",
       "      <th>interest</th>\n",
       "      <th>Impressions</th>\n",
       "      <th>Clicks</th>\n",
       "      <th>Spent</th>\n",
       "      <th>Total_Conversion</th>\n",
       "      <th>Approved_Conversion</th>\n",
       "    </tr>\n",
       "  </thead>\n",
       "  <tbody>\n",
       "    <tr>\n",
       "      <th>count</th>\n",
       "      <td>1143.000</td>\n",
       "      <td>1143.000</td>\n",
       "      <td>1143.000</td>\n",
       "      <td>1143.000</td>\n",
       "      <td>1143.000</td>\n",
       "      <td>1143.000</td>\n",
       "      <td>1143.000</td>\n",
       "      <td>1143.000</td>\n",
       "      <td>1143.000</td>\n",
       "    </tr>\n",
       "    <tr>\n",
       "      <th>mean</th>\n",
       "      <td>987261.130</td>\n",
       "      <td>1067.382</td>\n",
       "      <td>133783.990</td>\n",
       "      <td>32.766</td>\n",
       "      <td>186732.133</td>\n",
       "      <td>33.390</td>\n",
       "      <td>51.361</td>\n",
       "      <td>2.856</td>\n",
       "      <td>0.944</td>\n",
       "    </tr>\n",
       "    <tr>\n",
       "      <th>std</th>\n",
       "      <td>193992.815</td>\n",
       "      <td>121.629</td>\n",
       "      <td>20500.309</td>\n",
       "      <td>26.952</td>\n",
       "      <td>312762.183</td>\n",
       "      <td>56.892</td>\n",
       "      <td>86.908</td>\n",
       "      <td>4.484</td>\n",
       "      <td>1.738</td>\n",
       "    </tr>\n",
       "    <tr>\n",
       "      <th>min</th>\n",
       "      <td>708746.000</td>\n",
       "      <td>916.000</td>\n",
       "      <td>103916.000</td>\n",
       "      <td>2.000</td>\n",
       "      <td>87.000</td>\n",
       "      <td>0.000</td>\n",
       "      <td>0.000</td>\n",
       "      <td>0.000</td>\n",
       "      <td>0.000</td>\n",
       "    </tr>\n",
       "    <tr>\n",
       "      <th>25%</th>\n",
       "      <td>777632.500</td>\n",
       "      <td>936.000</td>\n",
       "      <td>115716.000</td>\n",
       "      <td>16.000</td>\n",
       "      <td>6503.500</td>\n",
       "      <td>1.000</td>\n",
       "      <td>1.480</td>\n",
       "      <td>1.000</td>\n",
       "      <td>0.000</td>\n",
       "    </tr>\n",
       "    <tr>\n",
       "      <th>50%</th>\n",
       "      <td>1121185.000</td>\n",
       "      <td>1178.000</td>\n",
       "      <td>144549.000</td>\n",
       "      <td>25.000</td>\n",
       "      <td>51509.000</td>\n",
       "      <td>8.000</td>\n",
       "      <td>12.370</td>\n",
       "      <td>1.000</td>\n",
       "      <td>1.000</td>\n",
       "    </tr>\n",
       "    <tr>\n",
       "      <th>75%</th>\n",
       "      <td>1121804.500</td>\n",
       "      <td>1178.000</td>\n",
       "      <td>144657.500</td>\n",
       "      <td>31.000</td>\n",
       "      <td>221769.000</td>\n",
       "      <td>37.500</td>\n",
       "      <td>60.025</td>\n",
       "      <td>3.000</td>\n",
       "      <td>1.000</td>\n",
       "    </tr>\n",
       "    <tr>\n",
       "      <th>max</th>\n",
       "      <td>1314415.000</td>\n",
       "      <td>1178.000</td>\n",
       "      <td>179982.000</td>\n",
       "      <td>114.000</td>\n",
       "      <td>3052003.000</td>\n",
       "      <td>421.000</td>\n",
       "      <td>639.950</td>\n",
       "      <td>60.000</td>\n",
       "      <td>21.000</td>\n",
       "    </tr>\n",
       "  </tbody>\n",
       "</table>\n",
       "</div>"
      ],
      "text/plain": [
       "            ad_id  xyz_campaign_id  fb_campaign_id  interest  Impressions  \\\n",
       "count    1143.000         1143.000        1143.000  1143.000     1143.000   \n",
       "mean   987261.130         1067.382      133783.990    32.766   186732.133   \n",
       "std    193992.815          121.629       20500.309    26.952   312762.183   \n",
       "min    708746.000          916.000      103916.000     2.000       87.000   \n",
       "25%    777632.500          936.000      115716.000    16.000     6503.500   \n",
       "50%   1121185.000         1178.000      144549.000    25.000    51509.000   \n",
       "75%   1121804.500         1178.000      144657.500    31.000   221769.000   \n",
       "max   1314415.000         1178.000      179982.000   114.000  3052003.000   \n",
       "\n",
       "        Clicks    Spent  Total_Conversion  Approved_Conversion  \n",
       "count 1143.000 1143.000          1143.000             1143.000  \n",
       "mean    33.390   51.361             2.856                0.944  \n",
       "std     56.892   86.908             4.484                1.738  \n",
       "min      0.000    0.000             0.000                0.000  \n",
       "25%      1.000    1.480             1.000                0.000  \n",
       "50%      8.000   12.370             1.000                1.000  \n",
       "75%     37.500   60.025             3.000                1.000  \n",
       "max    421.000  639.950            60.000               21.000  "
      ]
     },
     "execution_count": 751,
     "metadata": {},
     "output_type": "execute_result"
    }
   ],
   "source": [
    "df.describe()"
   ]
  },
  {
   "cell_type": "code",
   "execution_count": 752,
   "id": "aaccff8e",
   "metadata": {},
   "outputs": [],
   "source": [
    "# Intrest is a categorical variable representing different interest categories (eg: sports, music, travel, etc.)\n",
    "df['interest'] = df['interest'].astype('object')"
   ]
  },
  {
   "cell_type": "markdown",
   "id": "bce31e7a",
   "metadata": {},
   "source": [
    "### ✅ Step 2: Check for Missing & Duplicate Values"
   ]
  },
  {
   "cell_type": "code",
   "execution_count": 753,
   "id": "f9859716",
   "metadata": {},
   "outputs": [
    {
     "data": {
      "text/plain": [
       "ad_id                  0\n",
       "xyz_campaign_id        0\n",
       "fb_campaign_id         0\n",
       "age                    0\n",
       "gender                 0\n",
       "interest               0\n",
       "Impressions            0\n",
       "Clicks                 0\n",
       "Spent                  0\n",
       "Total_Conversion       0\n",
       "Approved_Conversion    0\n",
       "dtype: int64"
      ]
     },
     "execution_count": 753,
     "metadata": {},
     "output_type": "execute_result"
    }
   ],
   "source": [
    "df.isnull().sum()"
   ]
  },
  {
   "cell_type": "code",
   "execution_count": 754,
   "id": "76281a66",
   "metadata": {},
   "outputs": [
    {
     "data": {
      "text/plain": [
       "0"
      ]
     },
     "execution_count": 754,
     "metadata": {},
     "output_type": "execute_result"
    }
   ],
   "source": [
    "df.duplicated().sum()"
   ]
  },
  {
   "cell_type": "markdown",
   "id": "3e6f0709",
   "metadata": {},
   "source": [
    "### ✅ Step 3: Data Distribution & Summary"
   ]
  },
  {
   "cell_type": "code",
   "execution_count": 755,
   "id": "2a2711e3",
   "metadata": {},
   "outputs": [
    {
     "name": "stderr",
     "output_type": "stream",
     "text": [
      "C:\\Users\\PC-MOH\\AppData\\Local\\Temp\\ipykernel_34572\\981435383.py:2: UserWarning: To output multiple subplots, the figure containing the passed axes is being cleared.\n",
      "  df.hist(ax=ax)\n"
     ]
    },
    {
     "data": {
      "image/png": "[encoded data removed]",
      "text/plain": [
       "<Figure size 1300x800 with 9 Axes>"
      ]
     },
     "metadata": {},
     "output_type": "display_data"
    }
   ],
   "source": [
    "fig, ax = plt.subplots(figsize=(13, 8))\n",
    "df.hist(ax=ax)\n",
    "plt.show()"
   ]
  },
  {
   "cell_type": "code",
   "execution_count": 756,
   "id": "2f584f3f",
   "metadata": {},
   "outputs": [
    {
     "data": {
      "text/plain": [
       "age\n",
       "30-34    426\n",
       "45-49    259\n",
       "35-39    248\n",
       "40-44    210\n",
       "Name: count, dtype: int64"
      ]
     },
     "execution_count": 756,
     "metadata": {},
     "output_type": "execute_result"
    }
   ],
   "source": [
    "df['age'].value_counts()"
   ]
  },
  {
   "cell_type": "code",
   "execution_count": 757,
   "id": "bd3a966d",
   "metadata": {},
   "outputs": [
    {
     "data": {
      "text/plain": [
       "gender\n",
       "M    592\n",
       "F    551\n",
       "Name: count, dtype: int64"
      ]
     },
     "execution_count": 757,
     "metadata": {},
     "output_type": "execute_result"
    }
   ],
   "source": [
    "df['gender'].value_counts()"
   ]
  },
  {
   "cell_type": "code",
   "execution_count": 758,
   "id": "ae2c00d0",
   "metadata": {},
   "outputs": [
    {
     "data": {
      "text/plain": [
       "interest\n",
       "16    140\n",
       "10     85\n",
       "29     77\n",
       "27     60\n",
       "15     51\n",
       "28     51\n",
       "20     49\n",
       "64     48\n",
       "63     46\n",
       "18     43\n",
       "Name: count, dtype: int64"
      ]
     },
     "execution_count": 758,
     "metadata": {},
     "output_type": "execute_result"
    }
   ],
   "source": [
    "df['interest'].value_counts().head(10)"
   ]
  },
  {
   "cell_type": "markdown",
   "id": "c59235d9",
   "metadata": {},
   "source": [
    "### ✅ Step 4: Create Derived Metrics"
   ]
  },
  {
   "cell_type": "code",
   "execution_count": 759,
   "id": "24a8daf4",
   "metadata": {},
   "outputs": [],
   "source": [
    "df['CPC'] = df['Spent'] / df['Clicks'].replace(0, np.nan)\n",
    "df['CPC'] =df['CPC'].apply(lambda x: float(\"%.2f\" % x))"
   ]
  },
  {
   "cell_type": "code",
   "execution_count": 760,
   "id": "2bbd50a6",
   "metadata": {},
   "outputs": [],
   "source": [
    "df['CTR'] = df['Clicks'] / df['Impressions'].replace(0, np.nan) * 100\n",
    "df['CTR'] = df['CTR'].apply(lambda x: float(\"%.4f\" % x))"
   ]
  },
  {
   "cell_type": "code",
   "execution_count": 761,
   "id": "0b384753",
   "metadata": {},
   "outputs": [],
   "source": [
    "df['CPA'] = df['Spent'] / df['Approved_Conversion'].replace(0, np.nan)\n",
    "df['CPA'] = df['CPA'].apply(lambda x: float(\"%.2f\" % x))"
   ]
  },
  {
   "cell_type": "code",
   "execution_count": 762,
   "id": "c368bf79",
   "metadata": {},
   "outputs": [],
   "source": [
    "df['CPM'] = df['Spent'] / df['Impressions'].replace(0, np.nan) * 1000\n",
    "df['CPM'] = df['CPM'].apply(lambda x: float(\"%.2f\" % x))"
   ]
  },
  {
   "cell_type": "markdown",
   "id": "4fef8fee",
   "metadata": {},
   "source": [
    "#### ✅ Step 4: Basic descriptive statistics"
   ]
  },
  {
   "cell_type": "code",
   "execution_count": 763,
   "id": "731ccb8a",
   "metadata": {},
   "outputs": [
    {
     "name": "stdout",
     "output_type": "stream",
     "text": [
      "<class 'pandas.core.frame.DataFrame'>\n",
      "RangeIndex: 1143 entries, 0 to 1142\n",
      "Data columns (total 15 columns):\n",
      " #   Column               Non-Null Count  Dtype  \n",
      "---  ------               --------------  -----  \n",
      " 0   ad_id                1143 non-null   int64  \n",
      " 1   xyz_campaign_id      1143 non-null   int64  \n",
      " 2   fb_campaign_id       1143 non-null   int64  \n",
      " 3   age                  1143 non-null   object \n",
      " 4   gender               1143 non-null   object \n",
      " 5   interest             1143 non-null   object \n",
      " 6   Impressions          1143 non-null   int64  \n",
      " 7   Clicks               1143 non-null   int64  \n",
      " 8   Spent                1143 non-null   float64\n",
      " 9   Total_Conversion     1143 non-null   int64  \n",
      " 10  Approved_Conversion  1143 non-null   int64  \n",
      " 11  CPC                  936 non-null    float64\n",
      " 12  CTR                  1143 non-null   float64\n",
      " 13  CPA                  584 non-null    float64\n",
      " 14  CPM                  1143 non-null   float64\n",
      "dtypes: float64(5), int64(7), object(3)\n",
      "memory usage: 134.1+ KB\n"
     ]
    }
   ],
   "source": [
    "df.info()"
   ]
  },
  {
   "cell_type": "code",
   "execution_count": 764,
   "id": "ecbf9e9a",
   "metadata": {},
   "outputs": [
    {
     "data": {
      "text/html": [
       "<div>\n",
       "<style scoped>\n",
       "    .dataframe tbody tr th:only-of-type {\n",
       "        vertical-align: middle;\n",
       "    }\n",
       "\n",
       "    .dataframe tbody tr th {\n",
       "        vertical-align: top;\n",
       "    }\n",
       "\n",
       "    .dataframe thead th {\n",
       "        text-align: right;\n",
       "    }\n",
       "</style>\n",
       "<table border=\"1\" class=\"dataframe\">\n",
       "  <thead>\n",
       "    <tr style=\"text-align: right;\">\n",
       "      <th></th>\n",
       "      <th>ad_id</th>\n",
       "      <th>xyz_campaign_id</th>\n",
       "      <th>fb_campaign_id</th>\n",
       "      <th>Impressions</th>\n",
       "      <th>Clicks</th>\n",
       "      <th>Spent</th>\n",
       "      <th>Total_Conversion</th>\n",
       "      <th>Approved_Conversion</th>\n",
       "      <th>CPC</th>\n",
       "      <th>CTR</th>\n",
       "      <th>CPA</th>\n",
       "      <th>CPM</th>\n",
       "    </tr>\n",
       "  </thead>\n",
       "  <tbody>\n",
       "    <tr>\n",
       "      <th>count</th>\n",
       "      <td>1143.000</td>\n",
       "      <td>1143.000</td>\n",
       "      <td>1143.000</td>\n",
       "      <td>1143.000</td>\n",
       "      <td>1143.000</td>\n",
       "      <td>1143.000</td>\n",
       "      <td>1143.000</td>\n",
       "      <td>1143.000</td>\n",
       "      <td>936.000</td>\n",
       "      <td>1143.000</td>\n",
       "      <td>584.000</td>\n",
       "      <td>1143.000</td>\n",
       "    </tr>\n",
       "    <tr>\n",
       "      <th>mean</th>\n",
       "      <td>987261.130</td>\n",
       "      <td>1067.382</td>\n",
       "      <td>133783.990</td>\n",
       "      <td>186732.133</td>\n",
       "      <td>33.390</td>\n",
       "      <td>51.361</td>\n",
       "      <td>2.856</td>\n",
       "      <td>0.944</td>\n",
       "      <td>1.499</td>\n",
       "      <td>0.016</td>\n",
       "      <td>40.553</td>\n",
       "      <td>0.239</td>\n",
       "    </tr>\n",
       "    <tr>\n",
       "      <th>std</th>\n",
       "      <td>193992.815</td>\n",
       "      <td>121.629</td>\n",
       "      <td>20500.309</td>\n",
       "      <td>312762.183</td>\n",
       "      <td>56.892</td>\n",
       "      <td>86.908</td>\n",
       "      <td>4.484</td>\n",
       "      <td>1.738</td>\n",
       "      <td>0.233</td>\n",
       "      <td>0.012</td>\n",
       "      <td>54.273</td>\n",
       "      <td>0.161</td>\n",
       "    </tr>\n",
       "    <tr>\n",
       "      <th>min</th>\n",
       "      <td>708746.000</td>\n",
       "      <td>916.000</td>\n",
       "      <td>103916.000</td>\n",
       "      <td>87.000</td>\n",
       "      <td>0.000</td>\n",
       "      <td>0.000</td>\n",
       "      <td>0.000</td>\n",
       "      <td>0.000</td>\n",
       "      <td>0.180</td>\n",
       "      <td>0.000</td>\n",
       "      <td>0.000</td>\n",
       "      <td>0.000</td>\n",
       "    </tr>\n",
       "    <tr>\n",
       "      <th>25%</th>\n",
       "      <td>777632.500</td>\n",
       "      <td>936.000</td>\n",
       "      <td>115716.000</td>\n",
       "      <td>6503.500</td>\n",
       "      <td>1.000</td>\n",
       "      <td>1.480</td>\n",
       "      <td>1.000</td>\n",
       "      <td>0.000</td>\n",
       "      <td>1.390</td>\n",
       "      <td>0.010</td>\n",
       "      <td>3.067</td>\n",
       "      <td>0.150</td>\n",
       "    </tr>\n",
       "    <tr>\n",
       "      <th>50%</th>\n",
       "      <td>1121185.000</td>\n",
       "      <td>1178.000</td>\n",
       "      <td>144549.000</td>\n",
       "      <td>51509.000</td>\n",
       "      <td>8.000</td>\n",
       "      <td>12.370</td>\n",
       "      <td>1.000</td>\n",
       "      <td>1.000</td>\n",
       "      <td>1.500</td>\n",
       "      <td>0.016</td>\n",
       "      <td>22.845</td>\n",
       "      <td>0.250</td>\n",
       "    </tr>\n",
       "    <tr>\n",
       "      <th>75%</th>\n",
       "      <td>1121804.500</td>\n",
       "      <td>1178.000</td>\n",
       "      <td>144657.500</td>\n",
       "      <td>221769.000</td>\n",
       "      <td>37.500</td>\n",
       "      <td>60.025</td>\n",
       "      <td>3.000</td>\n",
       "      <td>1.000</td>\n",
       "      <td>1.642</td>\n",
       "      <td>0.023</td>\n",
       "      <td>54.005</td>\n",
       "      <td>0.330</td>\n",
       "    </tr>\n",
       "    <tr>\n",
       "      <th>max</th>\n",
       "      <td>1314415.000</td>\n",
       "      <td>1178.000</td>\n",
       "      <td>179982.000</td>\n",
       "      <td>3052003.000</td>\n",
       "      <td>421.000</td>\n",
       "      <td>639.950</td>\n",
       "      <td>60.000</td>\n",
       "      <td>21.000</td>\n",
       "      <td>2.210</td>\n",
       "      <td>0.106</td>\n",
       "      <td>352.450</td>\n",
       "      <td>1.500</td>\n",
       "    </tr>\n",
       "  </tbody>\n",
       "</table>\n",
       "</div>"
      ],
      "text/plain": [
       "            ad_id  xyz_campaign_id  fb_campaign_id  Impressions   Clicks  \\\n",
       "count    1143.000         1143.000        1143.000     1143.000 1143.000   \n",
       "mean   987261.130         1067.382      133783.990   186732.133   33.390   \n",
       "std    193992.815          121.629       20500.309   312762.183   56.892   \n",
       "min    708746.000          916.000      103916.000       87.000    0.000   \n",
       "25%    777632.500          936.000      115716.000     6503.500    1.000   \n",
       "50%   1121185.000         1178.000      144549.000    51509.000    8.000   \n",
       "75%   1121804.500         1178.000      144657.500   221769.000   37.500   \n",
       "max   1314415.000         1178.000      179982.000  3052003.000  421.000   \n",
       "\n",
       "         Spent  Total_Conversion  Approved_Conversion     CPC      CTR  \\\n",
       "count 1143.000          1143.000             1143.000 936.000 1143.000   \n",
       "mean    51.361             2.856                0.944   1.499    0.016   \n",
       "std     86.908             4.484                1.738   0.233    0.012   \n",
       "min      0.000             0.000                0.000   0.180    0.000   \n",
       "25%      1.480             1.000                0.000   1.390    0.010   \n",
       "50%     12.370             1.000                1.000   1.500    0.016   \n",
       "75%     60.025             3.000                1.000   1.642    0.023   \n",
       "max    639.950            60.000               21.000   2.210    0.106   \n",
       "\n",
       "          CPA      CPM  \n",
       "count 584.000 1143.000  \n",
       "mean   40.553    0.239  \n",
       "std    54.273    0.161  \n",
       "min     0.000    0.000  \n",
       "25%     3.067    0.150  \n",
       "50%    22.845    0.250  \n",
       "75%    54.005    0.330  \n",
       "max   352.450    1.500  "
      ]
     },
     "execution_count": 764,
     "metadata": {},
     "output_type": "execute_result"
    }
   ],
   "source": [
    "df.describe()"
   ]
  },
  {
   "cell_type": "code",
   "execution_count": null,
   "id": "6c213601",
   "metadata": {},
   "outputs": [],
   "source": []
  },
  {
   "cell_type": "markdown",
   "id": "d41fa84e",
   "metadata": {},
   "source": [
    "# 🔬 2. Data Analysis (EDA & Visualizations)"
   ]
  },
  {
   "cell_type": "markdown",
   "id": "204044af",
   "metadata": {},
   "source": [
    "#### # --- 1. Distribution of Impressions ---"
   ]
  },
  {
   "cell_type": "code",
   "execution_count": 765,
   "id": "1a2f39ec",
   "metadata": {},
   "outputs": [
    {
     "name": "stderr",
     "output_type": "stream",
     "text": [
      "c:\\Users\\PC-MOH\\miniconda3\\Lib\\site-packages\\seaborn\\_oldcore.py:1119: FutureWarning: use_inf_as_na option is deprecated and will be removed in a future version. Convert inf values to NaN before operating instead.\n",
      "  with pd.option_context('mode.use_inf_as_na', True):\n"
     ]
    },
    {
     "data": {
      "image/png": "[encoded data removed]",
      "text/plain": [
       "<Figure size 1000x600 with 1 Axes>"
      ]
     },
     "metadata": {},
     "output_type": "display_data"
    }
   ],
   "source": [
    "fig, ax = plt.subplots(figsize=(10, 6))\n",
    "sns.histplot(\n",
    "  data=df,\n",
    "  x='Impressions',\n",
    "  bins=50,\n",
    "  kde=True,      # Kernel Density Estimate\n",
    "  ax=ax\n",
    ")\n",
    "plt.tight_layout()\n",
    "plt.show()"
   ]
  },
  {
   "cell_type": "markdown",
   "id": "b91769b5",
   "metadata": {},
   "source": [
    "#### # --- 2. Distribution of Clicks ---\n"
   ]
  },
  {
   "cell_type": "code",
   "execution_count": 766,
   "id": "016096fd",
   "metadata": {},
   "outputs": [
    {
     "name": "stderr",
     "output_type": "stream",
     "text": [
      "c:\\Users\\PC-MOH\\miniconda3\\Lib\\site-packages\\seaborn\\_oldcore.py:1119: FutureWarning: use_inf_as_na option is deprecated and will be removed in a future version. Convert inf values to NaN before operating instead.\n",
      "  with pd.option_context('mode.use_inf_as_na', True):\n"
     ]
    },
    {
     "data": {
      "image/png": "[encoded data removed]",
      "text/plain": [
       "<Figure size 1000x600 with 1 Axes>"
      ]
     },
     "metadata": {},
     "output_type": "display_data"
    }
   ],
   "source": [
    "fig, ax = plt.subplots(figsize=(10, 6))\n",
    "sns.histplot(\n",
    "  data=df,\n",
    "  x='Clicks',\n",
    "  bins=40,\n",
    "  kde=True\n",
    ")\n",
    "plt.show()"
   ]
  },
  {
   "cell_type": "markdown",
   "id": "c4702a52",
   "metadata": {},
   "source": [
    "#### # --- 3. CTR by Age Group ---"
   ]
  },
  {
   "cell_type": "code",
   "execution_count": 767,
   "id": "e79118cb",
   "metadata": {},
   "outputs": [
    {
     "data": {
      "text/html": [
       "<div>\n",
       "<style scoped>\n",
       "    .dataframe tbody tr th:only-of-type {\n",
       "        vertical-align: middle;\n",
       "    }\n",
       "\n",
       "    .dataframe tbody tr th {\n",
       "        vertical-align: top;\n",
       "    }\n",
       "\n",
       "    .dataframe thead th {\n",
       "        text-align: right;\n",
       "    }\n",
       "</style>\n",
       "<table border=\"1\" class=\"dataframe\">\n",
       "  <thead>\n",
       "    <tr style=\"text-align: right;\">\n",
       "      <th></th>\n",
       "      <th>age</th>\n",
       "      <th>Impressions</th>\n",
       "      <th>Clicks</th>\n",
       "    </tr>\n",
       "  </thead>\n",
       "  <tbody>\n",
       "    <tr>\n",
       "      <th>0</th>\n",
       "      <td>30-34</td>\n",
       "      <td>67993019</td>\n",
       "      <td>9483</td>\n",
       "    </tr>\n",
       "    <tr>\n",
       "      <th>1</th>\n",
       "      <td>35-39</td>\n",
       "      <td>42104644</td>\n",
       "      <td>7094</td>\n",
       "    </tr>\n",
       "    <tr>\n",
       "      <th>2</th>\n",
       "      <td>40-44</td>\n",
       "      <td>39604307</td>\n",
       "      <td>7736</td>\n",
       "    </tr>\n",
       "    <tr>\n",
       "      <th>3</th>\n",
       "      <td>45-49</td>\n",
       "      <td>63732858</td>\n",
       "      <td>13852</td>\n",
       "    </tr>\n",
       "  </tbody>\n",
       "</table>\n",
       "</div>"
      ],
      "text/plain": [
       "     age  Impressions  Clicks\n",
       "0  30-34     67993019    9483\n",
       "1  35-39     42104644    7094\n",
       "2  40-44     39604307    7736\n",
       "3  45-49     63732858   13852"
      ]
     },
     "execution_count": 767,
     "metadata": {},
     "output_type": "execute_result"
    }
   ],
   "source": [
    "age_imp_click_df = df.groupby('age').agg({'Impressions':'sum','Clicks':'sum'}).reset_index()\n",
    "age_imp_click_df"
   ]
  },
  {
   "cell_type": "code",
   "execution_count": 768,
   "id": "63753e44",
   "metadata": {},
   "outputs": [
    {
     "data": {
      "text/html": [
       "<div>\n",
       "<style scoped>\n",
       "    .dataframe tbody tr th:only-of-type {\n",
       "        vertical-align: middle;\n",
       "    }\n",
       "\n",
       "    .dataframe tbody tr th {\n",
       "        vertical-align: top;\n",
       "    }\n",
       "\n",
       "    .dataframe thead th {\n",
       "        text-align: right;\n",
       "    }\n",
       "</style>\n",
       "<table border=\"1\" class=\"dataframe\">\n",
       "  <thead>\n",
       "    <tr style=\"text-align: right;\">\n",
       "      <th></th>\n",
       "      <th>age</th>\n",
       "      <th>CTR</th>\n",
       "    </tr>\n",
       "  </thead>\n",
       "  <tbody>\n",
       "    <tr>\n",
       "      <th>1</th>\n",
       "      <td>35-39</td>\n",
       "      <td>4.031</td>\n",
       "    </tr>\n",
       "    <tr>\n",
       "      <th>2</th>\n",
       "      <td>40-44</td>\n",
       "      <td>4.210</td>\n",
       "    </tr>\n",
       "    <tr>\n",
       "      <th>0</th>\n",
       "      <td>30-34</td>\n",
       "      <td>4.952</td>\n",
       "    </tr>\n",
       "    <tr>\n",
       "      <th>3</th>\n",
       "      <td>45-49</td>\n",
       "      <td>5.575</td>\n",
       "    </tr>\n",
       "  </tbody>\n",
       "</table>\n",
       "</div>"
      ],
      "text/plain": [
       "     age   CTR\n",
       "1  35-39 4.031\n",
       "2  40-44 4.210\n",
       "0  30-34 4.952\n",
       "3  45-49 5.575"
      ]
     },
     "execution_count": 768,
     "metadata": {},
     "output_type": "execute_result"
    }
   ],
   "source": [
    "df_ctr_age = df.groupby('age', as_index=False)['CTR'].sum().sort_values(by='CTR')\n",
    "df_ctr_age"
   ]
  },
  {
   "cell_type": "code",
   "execution_count": 769,
   "id": "228bfe38",
   "metadata": {},
   "outputs": [
    {
     "name": "stderr",
     "output_type": "stream",
     "text": [
      "c:\\Users\\PC-MOH\\miniconda3\\Lib\\site-packages\\seaborn\\_oldcore.py:1119: FutureWarning: use_inf_as_na option is deprecated and will be removed in a future version. Convert inf values to NaN before operating instead.\n",
      "  with pd.option_context('mode.use_inf_as_na', True):\n",
      "c:\\Users\\PC-MOH\\miniconda3\\Lib\\site-packages\\seaborn\\_oldcore.py:1119: FutureWarning: use_inf_as_na option is deprecated and will be removed in a future version. Convert inf values to NaN before operating instead.\n",
      "  with pd.option_context('mode.use_inf_as_na', True):\n"
     ]
    },
    {
     "data": {
      "image/png": "[encoded data removed]",
      "text/plain": [
       "<Figure size 1200x800 with 1 Axes>"
      ]
     },
     "metadata": {},
     "output_type": "display_data"
    }
   ],
   "source": [
    "fig, ax = plt.subplots(figsize=(12, 8))\n",
    "sns.lineplot(\n",
    "  data=df,\n",
    "  x='age',\n",
    "  y='CTR',    # 'Mean' by default\n",
    "  ax=ax\n",
    ")\n",
    "plt.show()"
   ]
  },
  {
   "cell_type": "markdown",
   "id": "019a037f",
   "metadata": {},
   "source": [
    "#### # --- 4. CTR by Gender ---\n"
   ]
  },
  {
   "cell_type": "code",
   "execution_count": 770,
   "id": "66d8e5d8",
   "metadata": {},
   "outputs": [
    {
     "data": {
      "image/png": "[encoded data removed]",
      "text/plain": [
       "<Figure size 600x600 with 1 Axes>"
      ]
     },
     "metadata": {},
     "output_type": "display_data"
    }
   ],
   "source": [
    "fig, ax = plt.subplots(figsize=(6, 6))\n",
    "sns.barplot(\n",
    "  data=df,\n",
    "  x='gender',\n",
    "  y='CTR'\n",
    ")\n",
    "plt.show()"
   ]
  },
  {
   "cell_type": "markdown",
   "id": "e8ab3a4c",
   "metadata": {},
   "source": [
    "#### # --- 5. Spend vs Approved Conversions ---"
   ]
  },
  {
   "cell_type": "code",
   "execution_count": 771,
   "id": "e01ad653",
   "metadata": {},
   "outputs": [
    {
     "data": {
      "image/png": "[encoded data removed]",
      "text/plain": [
       "<Figure size 1000x600 with 1 Axes>"
      ]
     },
     "metadata": {},
     "output_type": "display_data"
    }
   ],
   "source": [
    "fig, ax = plt.subplots(figsize=(10, 6))\n",
    "sns.scatterplot(\n",
    "  data=df, \n",
    "  x='Spent',\n",
    "  y='Approved_Conversion',\n",
    "  hue='age',\n",
    "  ax=ax\n",
    ")\n",
    "plt.show()"
   ]
  },
  {
   "cell_type": "markdown",
   "id": "c4961bb2",
   "metadata": {},
   "source": [
    "#### # --- 6. Correlation Heatmap ---"
   ]
  },
  {
   "cell_type": "code",
   "execution_count": 772,
   "id": "1378c38d",
   "metadata": {},
   "outputs": [
    {
     "data": {
      "text/html": [
       "<div>\n",
       "<style scoped>\n",
       "    .dataframe tbody tr th:only-of-type {\n",
       "        vertical-align: middle;\n",
       "    }\n",
       "\n",
       "    .dataframe tbody tr th {\n",
       "        vertical-align: top;\n",
       "    }\n",
       "\n",
       "    .dataframe thead th {\n",
       "        text-align: right;\n",
       "    }\n",
       "</style>\n",
       "<table border=\"1\" class=\"dataframe\">\n",
       "  <thead>\n",
       "    <tr style=\"text-align: right;\">\n",
       "      <th></th>\n",
       "      <th>Impressions</th>\n",
       "      <th>Clicks</th>\n",
       "      <th>Spent</th>\n",
       "      <th>Total_Conversion</th>\n",
       "      <th>Approved_Conversion</th>\n",
       "      <th>CPC</th>\n",
       "      <th>CTR</th>\n",
       "      <th>CPA</th>\n",
       "      <th>CPM</th>\n",
       "    </tr>\n",
       "  </thead>\n",
       "  <tbody>\n",
       "    <tr>\n",
       "      <th>Impressions</th>\n",
       "      <td>1.000</td>\n",
       "      <td>0.949</td>\n",
       "      <td>0.970</td>\n",
       "      <td>0.813</td>\n",
       "      <td>0.684</td>\n",
       "      <td>0.208</td>\n",
       "      <td>0.076</td>\n",
       "      <td>0.587</td>\n",
       "      <td>0.133</td>\n",
       "    </tr>\n",
       "    <tr>\n",
       "      <th>Clicks</th>\n",
       "      <td>0.949</td>\n",
       "      <td>1.000</td>\n",
       "      <td>0.993</td>\n",
       "      <td>0.695</td>\n",
       "      <td>0.560</td>\n",
       "      <td>0.112</td>\n",
       "      <td>0.159</td>\n",
       "      <td>0.684</td>\n",
       "      <td>0.203</td>\n",
       "    </tr>\n",
       "    <tr>\n",
       "      <th>Spent</th>\n",
       "      <td>0.970</td>\n",
       "      <td>0.993</td>\n",
       "      <td>1.000</td>\n",
       "      <td>0.725</td>\n",
       "      <td>0.593</td>\n",
       "      <td>0.165</td>\n",
       "      <td>0.141</td>\n",
       "      <td>0.672</td>\n",
       "      <td>0.194</td>\n",
       "    </tr>\n",
       "    <tr>\n",
       "      <th>Total_Conversion</th>\n",
       "      <td>0.813</td>\n",
       "      <td>0.695</td>\n",
       "      <td>0.725</td>\n",
       "      <td>1.000</td>\n",
       "      <td>0.864</td>\n",
       "      <td>0.160</td>\n",
       "      <td>0.011</td>\n",
       "      <td>0.222</td>\n",
       "      <td>0.049</td>\n",
       "    </tr>\n",
       "    <tr>\n",
       "      <th>Approved_Conversion</th>\n",
       "      <td>0.684</td>\n",
       "      <td>0.560</td>\n",
       "      <td>0.593</td>\n",
       "      <td>0.864</td>\n",
       "      <td>1.000</td>\n",
       "      <td>0.170</td>\n",
       "      <td>-0.007</td>\n",
       "      <td>0.003</td>\n",
       "      <td>0.031</td>\n",
       "    </tr>\n",
       "    <tr>\n",
       "      <th>CPC</th>\n",
       "      <td>0.208</td>\n",
       "      <td>0.112</td>\n",
       "      <td>0.165</td>\n",
       "      <td>0.160</td>\n",
       "      <td>0.170</td>\n",
       "      <td>1.000</td>\n",
       "      <td>-0.379</td>\n",
       "      <td>0.102</td>\n",
       "      <td>-0.028</td>\n",
       "    </tr>\n",
       "    <tr>\n",
       "      <th>CTR</th>\n",
       "      <td>0.076</td>\n",
       "      <td>0.159</td>\n",
       "      <td>0.141</td>\n",
       "      <td>0.011</td>\n",
       "      <td>-0.007</td>\n",
       "      <td>-0.379</td>\n",
       "      <td>1.000</td>\n",
       "      <td>0.182</td>\n",
       "      <td>0.956</td>\n",
       "    </tr>\n",
       "    <tr>\n",
       "      <th>CPA</th>\n",
       "      <td>0.587</td>\n",
       "      <td>0.684</td>\n",
       "      <td>0.672</td>\n",
       "      <td>0.222</td>\n",
       "      <td>0.003</td>\n",
       "      <td>0.102</td>\n",
       "      <td>0.182</td>\n",
       "      <td>1.000</td>\n",
       "      <td>0.233</td>\n",
       "    </tr>\n",
       "    <tr>\n",
       "      <th>CPM</th>\n",
       "      <td>0.133</td>\n",
       "      <td>0.203</td>\n",
       "      <td>0.194</td>\n",
       "      <td>0.049</td>\n",
       "      <td>0.031</td>\n",
       "      <td>-0.028</td>\n",
       "      <td>0.956</td>\n",
       "      <td>0.233</td>\n",
       "      <td>1.000</td>\n",
       "    </tr>\n",
       "  </tbody>\n",
       "</table>\n",
       "</div>"
      ],
      "text/plain": [
       "                     Impressions  Clicks  Spent  Total_Conversion  \\\n",
       "Impressions                1.000   0.949  0.970             0.813   \n",
       "Clicks                     0.949   1.000  0.993             0.695   \n",
       "Spent                      0.970   0.993  1.000             0.725   \n",
       "Total_Conversion           0.813   0.695  0.725             1.000   \n",
       "Approved_Conversion        0.684   0.560  0.593             0.864   \n",
       "CPC                        0.208   0.112  0.165             0.160   \n",
       "CTR                        0.076   0.159  0.141             0.011   \n",
       "CPA                        0.587   0.684  0.672             0.222   \n",
       "CPM                        0.133   0.203  0.194             0.049   \n",
       "\n",
       "                     Approved_Conversion    CPC    CTR   CPA    CPM  \n",
       "Impressions                        0.684  0.208  0.076 0.587  0.133  \n",
       "Clicks                             0.560  0.112  0.159 0.684  0.203  \n",
       "Spent                              0.593  0.165  0.141 0.672  0.194  \n",
       "Total_Conversion                   0.864  0.160  0.011 0.222  0.049  \n",
       "Approved_Conversion                1.000  0.170 -0.007 0.003  0.031  \n",
       "CPC                                0.170  1.000 -0.379 0.102 -0.028  \n",
       "CTR                               -0.007 -0.379  1.000 0.182  0.956  \n",
       "CPA                                0.003  0.102  0.182 1.000  0.233  \n",
       "CPM                                0.031 -0.028  0.956 0.233  1.000  "
      ]
     },
     "execution_count": 772,
     "metadata": {},
     "output_type": "execute_result"
    }
   ],
   "source": [
    "corr_matrix = df[[\"Impressions\",\"Clicks\",\"Spent\",\"Total_Conversion\",\"Approved_Conversion\",\"CPC\",\"CTR\",\"CPA\",\"CPM\"]].corr()\n",
    "corr_matrix"
   ]
  },
  {
   "cell_type": "code",
   "execution_count": 773,
   "id": "cabe46f3",
   "metadata": {},
   "outputs": [
    {
     "data": {
      "image/png": "[encoded data removed]",
      "text/plain": [
       "<Figure size 1200x800 with 2 Axes>"
      ]
     },
     "metadata": {},
     "output_type": "display_data"
    }
   ],
   "source": [
    "fig, ax = plt.subplots(figsize=(12, 8))\n",
    "sns.heatmap(\n",
    "  data=corr_matrix,\n",
    "  annot=True,\n",
    "  cmap='coolwarm',\n",
    "  ax=ax)\n",
    "plt.show()"
   ]
  },
  {
   "cell_type": "code",
   "execution_count": null,
   "id": "a4d3256b",
   "metadata": {},
   "outputs": [],
   "source": []
  },
  {
   "cell_type": "markdown",
   "id": "c6ee4318",
   "metadata": {},
   "source": [
    "#### ✅ Optional: Group Analysis"
   ]
  },
  {
   "cell_type": "code",
   "execution_count": 774,
   "id": "28621776",
   "metadata": {},
   "outputs": [
    {
     "data": {
      "text/html": [
       "<div>\n",
       "<style scoped>\n",
       "    .dataframe tbody tr th:only-of-type {\n",
       "        vertical-align: middle;\n",
       "    }\n",
       "\n",
       "    .dataframe tbody tr th {\n",
       "        vertical-align: top;\n",
       "    }\n",
       "\n",
       "    .dataframe thead th {\n",
       "        text-align: right;\n",
       "    }\n",
       "</style>\n",
       "<table border=\"1\" class=\"dataframe\">\n",
       "  <thead>\n",
       "    <tr style=\"text-align: right;\">\n",
       "      <th></th>\n",
       "      <th>age</th>\n",
       "      <th>Impressions</th>\n",
       "      <th>Clicks</th>\n",
       "      <th>Spent</th>\n",
       "      <th>Approved_Conversion</th>\n",
       "      <th>CTR</th>\n",
       "      <th>CPA</th>\n",
       "    </tr>\n",
       "  </thead>\n",
       "  <tbody>\n",
       "    <tr>\n",
       "      <th>0</th>\n",
       "      <td>30-34</td>\n",
       "      <td>67993019</td>\n",
       "      <td>9483</td>\n",
       "      <td>15252.400</td>\n",
       "      <td>494</td>\n",
       "      <td>0.014</td>\n",
       "      <td>30.875</td>\n",
       "    </tr>\n",
       "    <tr>\n",
       "      <th>1</th>\n",
       "      <td>35-39</td>\n",
       "      <td>42104644</td>\n",
       "      <td>7094</td>\n",
       "      <td>11112.430</td>\n",
       "      <td>207</td>\n",
       "      <td>0.017</td>\n",
       "      <td>53.683</td>\n",
       "    </tr>\n",
       "    <tr>\n",
       "      <th>2</th>\n",
       "      <td>40-44</td>\n",
       "      <td>39604307</td>\n",
       "      <td>7736</td>\n",
       "      <td>11589.730</td>\n",
       "      <td>170</td>\n",
       "      <td>0.020</td>\n",
       "      <td>68.175</td>\n",
       "    </tr>\n",
       "    <tr>\n",
       "      <th>3</th>\n",
       "      <td>45-49</td>\n",
       "      <td>63732858</td>\n",
       "      <td>13852</td>\n",
       "      <td>20750.670</td>\n",
       "      <td>208</td>\n",
       "      <td>0.022</td>\n",
       "      <td>99.763</td>\n",
       "    </tr>\n",
       "  </tbody>\n",
       "</table>\n",
       "</div>"
      ],
      "text/plain": [
       "     age  Impressions  Clicks     Spent  Approved_Conversion   CTR    CPA\n",
       "0  30-34     67993019    9483 15252.400                  494 0.014 30.875\n",
       "1  35-39     42104644    7094 11112.430                  207 0.017 53.683\n",
       "2  40-44     39604307    7736 11589.730                  170 0.020 68.175\n",
       "3  45-49     63732858   13852 20750.670                  208 0.022 99.763"
      ]
     },
     "execution_count": 774,
     "metadata": {},
     "output_type": "execute_result"
    }
   ],
   "source": [
    "# Performance by Age\n",
    "age_group_df = df.groupby('age', as_index=False).agg({'Impressions': 'sum', 'Clicks': 'sum', 'Spent': 'sum', 'Approved_Conversion': 'sum'}) \n",
    "age_group_df['CTR'] = age_group_df['Clicks'] / age_group_df['Impressions'] * 100\n",
    "age_group_df['CPA'] = age_group_df['Spent'] / age_group_df['Approved_Conversion']\n",
    "age_group_df"
   ]
  },
  {
   "cell_type": "code",
   "execution_count": 775,
   "id": "0f39cb83",
   "metadata": {},
   "outputs": [
    {
     "name": "stderr",
     "output_type": "stream",
     "text": [
      "c:\\Users\\PC-MOH\\miniconda3\\Lib\\site-packages\\seaborn\\_oldcore.py:1119: FutureWarning: use_inf_as_na option is deprecated and will be removed in a future version. Convert inf values to NaN before operating instead.\n",
      "  with pd.option_context('mode.use_inf_as_na', True):\n",
      "c:\\Users\\PC-MOH\\miniconda3\\Lib\\site-packages\\seaborn\\_oldcore.py:1119: FutureWarning: use_inf_as_na option is deprecated and will be removed in a future version. Convert inf values to NaN before operating instead.\n",
      "  with pd.option_context('mode.use_inf_as_na', True):\n"
     ]
    },
    {
     "data": {
      "image/png": "[encoded data removed]",
      "text/plain": [
       "<Figure size 1000x600 with 2 Axes>"
      ]
     },
     "metadata": {},
     "output_type": "display_data"
    }
   ],
   "source": [
    "fig, ax1 = plt.subplots(figsize=(10, 6))\n",
    "\n",
    "# Bar plot for CTR (left axis)\n",
    "sns.barplot(data=age_group_df, x='age', y='CTR', ax=ax1, color='skyblue')\n",
    "ax1.set_ylabel('CTR (%)', color='blue')\n",
    "ax1.tick_params(axis='y', labelcolor='blue')\n",
    "\n",
    "# Create second axis for CPA (right axis)\n",
    "ax2 = ax1.twinx()\n",
    "\n",
    "sns.lineplot(data=age_group_df, x='age', y='CPA', ax=ax2, color='red', marker='o')\n",
    "ax2.set_ylabel('CPA ($)', color='red')\n",
    "ax2.tick_params(axis='y', labelcolor='red')\n",
    "\n",
    "plt.title('CTR and CPA by Age Group')\n",
    "plt.show()"
   ]
  },
  {
   "cell_type": "code",
   "execution_count": 776,
   "id": "99a0c2cc",
   "metadata": {},
   "outputs": [
    {
     "data": {
      "text/html": [
       "<div>\n",
       "<style scoped>\n",
       "    .dataframe tbody tr th:only-of-type {\n",
       "        vertical-align: middle;\n",
       "    }\n",
       "\n",
       "    .dataframe tbody tr th {\n",
       "        vertical-align: top;\n",
       "    }\n",
       "\n",
       "    .dataframe thead th {\n",
       "        text-align: right;\n",
       "    }\n",
       "</style>\n",
       "<table border=\"1\" class=\"dataframe\">\n",
       "  <thead>\n",
       "    <tr style=\"text-align: right;\">\n",
       "      <th></th>\n",
       "      <th>gender</th>\n",
       "      <th>Impressions</th>\n",
       "      <th>Clicks</th>\n",
       "      <th>Spent</th>\n",
       "      <th>Approved_Conversion</th>\n",
       "      <th>CTR</th>\n",
       "      <th>CPA</th>\n",
       "    </tr>\n",
       "  </thead>\n",
       "  <tbody>\n",
       "    <tr>\n",
       "      <th>0</th>\n",
       "      <td>F</td>\n",
       "      <td>114862847</td>\n",
       "      <td>23878</td>\n",
       "      <td>34502.620</td>\n",
       "      <td>495</td>\n",
       "      <td>0.021</td>\n",
       "      <td>69.702</td>\n",
       "    </tr>\n",
       "    <tr>\n",
       "      <th>1</th>\n",
       "      <td>M</td>\n",
       "      <td>98571981</td>\n",
       "      <td>14287</td>\n",
       "      <td>24202.610</td>\n",
       "      <td>584</td>\n",
       "      <td>0.014</td>\n",
       "      <td>41.443</td>\n",
       "    </tr>\n",
       "  </tbody>\n",
       "</table>\n",
       "</div>"
      ],
      "text/plain": [
       "  gender  Impressions  Clicks     Spent  Approved_Conversion   CTR    CPA\n",
       "0      F    114862847   23878 34502.620                  495 0.021 69.702\n",
       "1      M     98571981   14287 24202.610                  584 0.014 41.443"
      ]
     },
     "execution_count": 776,
     "metadata": {},
     "output_type": "execute_result"
    }
   ],
   "source": [
    "# Performance by Gender\n",
    "gender_group_df = df.groupby('gender', as_index=False)[['Impressions', 'Clicks', 'Spent', 'Approved_Conversion']].sum()\n",
    "gender_group_df['CTR'] = gender_group_df['Clicks'] / gender_group_df['Impressions'] * 100\n",
    "gender_group_df['CPA'] = gender_group_df['Spent'] / gender_group_df['Approved_Conversion']\n",
    "gender_group_df"
   ]
  },
  {
   "cell_type": "code",
   "execution_count": 777,
   "id": "2c3767b7",
   "metadata": {},
   "outputs": [
    {
     "name": "stderr",
     "output_type": "stream",
     "text": [
      "c:\\Users\\PC-MOH\\miniconda3\\Lib\\site-packages\\seaborn\\_oldcore.py:1119: FutureWarning: use_inf_as_na option is deprecated and will be removed in a future version. Convert inf values to NaN before operating instead.\n",
      "  with pd.option_context('mode.use_inf_as_na', True):\n",
      "c:\\Users\\PC-MOH\\miniconda3\\Lib\\site-packages\\seaborn\\_oldcore.py:1119: FutureWarning: use_inf_as_na option is deprecated and will be removed in a future version. Convert inf values to NaN before operating instead.\n",
      "  with pd.option_context('mode.use_inf_as_na', True):\n"
     ]
    },
    {
     "data": {
      "image/png": "[encoded data removed]",
      "text/plain": [
       "<Figure size 1000x800 with 2 Axes>"
      ]
     },
     "metadata": {},
     "output_type": "display_data"
    }
   ],
   "source": [
    "fig, ax1 = plt.subplots(figsize=(10, 8))\n",
    "sns.barplot(data=gender_group_df, x='gender', y='CTR', ax=ax1)\n",
    "ax1.set_ylabel('CTR (%)')\n",
    "ax2 = ax1.twinx()\n",
    "sns.lineplot(data=gender_group_df, x='gender', y='CPA', color='red', marker='o', ax=ax2)\n",
    "ax2.set_ylabel('CPA ($)', color='red')\n",
    "ax2.tick_params(axis='y', labelcolor='red')\n",
    "plt.show()"
   ]
  },
  {
   "cell_type": "code",
   "execution_count": null,
   "id": "08e9f305",
   "metadata": {},
   "outputs": [],
   "source": []
  },
  {
   "cell_type": "markdown",
   "id": "0655c2df",
   "metadata": {},
   "source": [
    "#### ✅ Step 3: Insights & Recommendations"
   ]
  },
  {
   "cell_type": "code",
   "execution_count": 791,
   "id": "aa31e9d9",
   "metadata": {},
   "outputs": [
    {
     "data": {
      "text/html": [
       "<div>\n",
       "<style scoped>\n",
       "    .dataframe tbody tr th:only-of-type {\n",
       "        vertical-align: middle;\n",
       "    }\n",
       "\n",
       "    .dataframe tbody tr th {\n",
       "        vertical-align: top;\n",
       "    }\n",
       "\n",
       "    .dataframe thead th {\n",
       "        text-align: right;\n",
       "    }\n",
       "</style>\n",
       "<table border=\"1\" class=\"dataframe\">\n",
       "  <thead>\n",
       "    <tr style=\"text-align: right;\">\n",
       "      <th></th>\n",
       "      <th>age</th>\n",
       "      <th>gender</th>\n",
       "      <th>Impressions</th>\n",
       "      <th>Clicks</th>\n",
       "      <th>Spent</th>\n",
       "      <th>Approved_Conversion</th>\n",
       "      <th>CTR</th>\n",
       "      <th>CPC</th>\n",
       "      <th>CPA</th>\n",
       "    </tr>\n",
       "  </thead>\n",
       "  <tbody>\n",
       "    <tr>\n",
       "      <th>1</th>\n",
       "      <td>30-34</td>\n",
       "      <td>M</td>\n",
       "      <td>36421443</td>\n",
       "      <td>4384</td>\n",
       "      <td>7640.920</td>\n",
       "      <td>299</td>\n",
       "      <td>0.012</td>\n",
       "      <td>1.743</td>\n",
       "      <td>25.555</td>\n",
       "    </tr>\n",
       "    <tr>\n",
       "      <th>0</th>\n",
       "      <td>30-34</td>\n",
       "      <td>F</td>\n",
       "      <td>31571576</td>\n",
       "      <td>5099</td>\n",
       "      <td>7611.480</td>\n",
       "      <td>195</td>\n",
       "      <td>0.016</td>\n",
       "      <td>1.493</td>\n",
       "      <td>39.033</td>\n",
       "    </tr>\n",
       "    <tr>\n",
       "      <th>3</th>\n",
       "      <td>35-39</td>\n",
       "      <td>M</td>\n",
       "      <td>20665139</td>\n",
       "      <td>2933</td>\n",
       "      <td>5051.080</td>\n",
       "      <td>112</td>\n",
       "      <td>0.014</td>\n",
       "      <td>1.722</td>\n",
       "      <td>45.099</td>\n",
       "    </tr>\n",
       "    <tr>\n",
       "      <th>5</th>\n",
       "      <td>40-44</td>\n",
       "      <td>M</td>\n",
       "      <td>16208132</td>\n",
       "      <td>2559</td>\n",
       "      <td>4193.150</td>\n",
       "      <td>77</td>\n",
       "      <td>0.016</td>\n",
       "      <td>1.639</td>\n",
       "      <td>54.456</td>\n",
       "    </tr>\n",
       "    <tr>\n",
       "      <th>2</th>\n",
       "      <td>35-39</td>\n",
       "      <td>F</td>\n",
       "      <td>21439505</td>\n",
       "      <td>4161</td>\n",
       "      <td>6061.350</td>\n",
       "      <td>95</td>\n",
       "      <td>0.019</td>\n",
       "      <td>1.457</td>\n",
       "      <td>63.804</td>\n",
       "    </tr>\n",
       "    <tr>\n",
       "      <th>7</th>\n",
       "      <td>45-49</td>\n",
       "      <td>M</td>\n",
       "      <td>25277267</td>\n",
       "      <td>4411</td>\n",
       "      <td>7317.460</td>\n",
       "      <td>96</td>\n",
       "      <td>0.017</td>\n",
       "      <td>1.659</td>\n",
       "      <td>76.224</td>\n",
       "    </tr>\n",
       "    <tr>\n",
       "      <th>4</th>\n",
       "      <td>40-44</td>\n",
       "      <td>F</td>\n",
       "      <td>23396175</td>\n",
       "      <td>5177</td>\n",
       "      <td>7396.580</td>\n",
       "      <td>93</td>\n",
       "      <td>0.022</td>\n",
       "      <td>1.429</td>\n",
       "      <td>79.533</td>\n",
       "    </tr>\n",
       "    <tr>\n",
       "      <th>6</th>\n",
       "      <td>45-49</td>\n",
       "      <td>F</td>\n",
       "      <td>38455591</td>\n",
       "      <td>9441</td>\n",
       "      <td>13433.210</td>\n",
       "      <td>112</td>\n",
       "      <td>0.025</td>\n",
       "      <td>1.423</td>\n",
       "      <td>119.939</td>\n",
       "    </tr>\n",
       "  </tbody>\n",
       "</table>\n",
       "</div>"
      ],
      "text/plain": [
       "     age gender  Impressions  Clicks     Spent  Approved_Conversion   CTR  \\\n",
       "1  30-34      M     36421443    4384  7640.920                  299 0.012   \n",
       "0  30-34      F     31571576    5099  7611.480                  195 0.016   \n",
       "3  35-39      M     20665139    2933  5051.080                  112 0.014   \n",
       "5  40-44      M     16208132    2559  4193.150                   77 0.016   \n",
       "2  35-39      F     21439505    4161  6061.350                   95 0.019   \n",
       "7  45-49      M     25277267    4411  7317.460                   96 0.017   \n",
       "4  40-44      F     23396175    5177  7396.580                   93 0.022   \n",
       "6  45-49      F     38455591    9441 13433.210                  112 0.025   \n",
       "\n",
       "    CPC     CPA  \n",
       "1 1.743  25.555  \n",
       "0 1.493  39.033  \n",
       "3 1.722  45.099  \n",
       "5 1.639  54.456  \n",
       "2 1.457  63.804  \n",
       "7 1.659  76.224  \n",
       "4 1.429  79.533  \n",
       "6 1.423 119.939  "
      ]
     },
     "execution_count": 791,
     "metadata": {},
     "output_type": "execute_result"
    }
   ],
   "source": [
    "# 1. High-Performing Segments\n",
    "# Sort by CTR (descending) and CPA (ascending)\n",
    "high_perf = df.groupby(['age', 'gender']).agg({\n",
    "    'Impressions':'sum',\n",
    "    'Clicks':'sum',\n",
    "    'Spent':'sum',\n",
    "    'Approved_Conversion':'sum'\n",
    "}).reset_index()\n",
    "\n",
    "# Calculate metrics\n",
    "high_perf['CTR'] = (high_perf['Clicks'] / high_perf['Impressions']) * 100\n",
    "high_perf['CPC'] = high_perf['Spent'] / high_perf['Clicks'].replace(0, np.nan)\n",
    "high_perf['CPA'] = high_perf['Spent'] / high_perf['Approved_Conversion'].replace(0, np.nan)\n",
    "\n",
    "best_segments = high_perf.sort_values(by=['CPA', 'CTR'], ascending=[True, False])\n",
    "best_segments"
   ]
  },
  {
   "cell_type": "code",
   "execution_count": 796,
   "id": "50c48ff1",
   "metadata": {},
   "outputs": [
    {
     "name": "stdout",
     "output_type": "stream",
     "text": [
      "0.016419160104986875\n",
      "40.55284246575343\n"
     ]
    }
   ],
   "source": [
    "print(df['CTR'].mean())\n",
    "print(df['CPA'].mean())"
   ]
  },
  {
   "cell_type": "markdown",
   "id": "8f66b86a",
   "metadata": {},
   "source": [
    "#### 🏷️ Segments with high CTR and low CPC/CPA are considered strong performers.\n",
    "#### 🏷️ **(30-34 /\tM):** are the Segment that has (CTR > average CTR) and (CPA < average CPA)"
   ]
  },
  {
   "cell_type": "code",
   "execution_count": 794,
   "id": "cef7bd56",
   "metadata": {},
   "outputs": [
    {
     "data": {
      "text/html": [
       "<div>\n",
       "<style scoped>\n",
       "    .dataframe tbody tr th:only-of-type {\n",
       "        vertical-align: middle;\n",
       "    }\n",
       "\n",
       "    .dataframe tbody tr th {\n",
       "        vertical-align: top;\n",
       "    }\n",
       "\n",
       "    .dataframe thead th {\n",
       "        text-align: right;\n",
       "    }\n",
       "</style>\n",
       "<table border=\"1\" class=\"dataframe\">\n",
       "  <thead>\n",
       "    <tr style=\"text-align: right;\">\n",
       "      <th></th>\n",
       "      <th>xyz_campaign_id</th>\n",
       "      <th>Impressions</th>\n",
       "      <th>Clicks</th>\n",
       "      <th>Spent</th>\n",
       "      <th>Approved_Conversion</th>\n",
       "      <th>CTR</th>\n",
       "      <th>CPC</th>\n",
       "      <th>CPA</th>\n",
       "    </tr>\n",
       "  </thead>\n",
       "  <tbody>\n",
       "    <tr>\n",
       "      <th>0</th>\n",
       "      <td>916</td>\n",
       "      <td>482925</td>\n",
       "      <td>113</td>\n",
       "      <td>149.710</td>\n",
       "      <td>24</td>\n",
       "      <td>0.023</td>\n",
       "      <td>1.325</td>\n",
       "      <td>6.238</td>\n",
       "    </tr>\n",
       "    <tr>\n",
       "      <th>1</th>\n",
       "      <td>936</td>\n",
       "      <td>8128187</td>\n",
       "      <td>1984</td>\n",
       "      <td>2893.370</td>\n",
       "      <td>183</td>\n",
       "      <td>0.024</td>\n",
       "      <td>1.458</td>\n",
       "      <td>15.811</td>\n",
       "    </tr>\n",
       "    <tr>\n",
       "      <th>2</th>\n",
       "      <td>1178</td>\n",
       "      <td>204823716</td>\n",
       "      <td>36068</td>\n",
       "      <td>55662.150</td>\n",
       "      <td>872</td>\n",
       "      <td>0.018</td>\n",
       "      <td>1.543</td>\n",
       "      <td>63.833</td>\n",
       "    </tr>\n",
       "  </tbody>\n",
       "</table>\n",
       "</div>"
      ],
      "text/plain": [
       "   xyz_campaign_id  Impressions  Clicks     Spent  Approved_Conversion   CTR  \\\n",
       "0              916       482925     113   149.710                   24 0.023   \n",
       "1              936      8128187    1984  2893.370                  183 0.024   \n",
       "2             1178    204823716   36068 55662.150                  872 0.018   \n",
       "\n",
       "    CPC    CPA  \n",
       "0 1.325  6.238  \n",
       "1 1.458 15.811  \n",
       "2 1.543 63.833  "
      ]
     },
     "execution_count": 794,
     "metadata": {},
     "output_type": "execute_result"
    }
   ],
   "source": [
    "high_perf_campaign = df.groupby('xyz_campaign_id').agg({\n",
    "    'Impressions':'sum',\n",
    "    'Clicks':'sum',\n",
    "    'Spent':'sum',\n",
    "    'Approved_Conversion':'sum'\n",
    "}).reset_index()\n",
    "high_perf_campaign\n",
    "\n",
    "# Calculate metrics\n",
    "high_perf_campaign['CTR'] = (high_perf_campaign['Clicks'] / high_perf_campaign['Impressions']) * 100\n",
    "high_perf_campaign['CPC'] = high_perf_campaign['Spent'] / high_perf_campaign['Clicks'].replace(0, np.nan)\n",
    "high_perf_campaign['CPA'] = high_perf_campaign['Spent'] / high_perf_campaign['Approved_Conversion'].replace(0, np.nan)\n",
    "\n",
    "high_perf_campaign.sort_values(by=['CPA'], ascending=[True])"
   ]
  },
  {
   "cell_type": "code",
   "execution_count": 795,
   "id": "d17cfa8d",
   "metadata": {},
   "outputs": [
    {
     "name": "stdout",
     "output_type": "stream",
     "text": [
      "0.016419160104986875\n",
      "40.55284246575343\n"
     ]
    }
   ],
   "source": [
    "print(df['CTR'].mean())\n",
    "print(df['CPA'].mean())"
   ]
  },
  {
   "cell_type": "code",
   "execution_count": 802,
   "id": "76110650",
   "metadata": {},
   "outputs": [
    {
     "data": {
      "text/html": [
       "<div>\n",
       "<style scoped>\n",
       "    .dataframe tbody tr th:only-of-type {\n",
       "        vertical-align: middle;\n",
       "    }\n",
       "\n",
       "    .dataframe tbody tr th {\n",
       "        vertical-align: top;\n",
       "    }\n",
       "\n",
       "    .dataframe thead th {\n",
       "        text-align: right;\n",
       "    }\n",
       "</style>\n",
       "<table border=\"1\" class=\"dataframe\">\n",
       "  <thead>\n",
       "    <tr style=\"text-align: right;\">\n",
       "      <th></th>\n",
       "      <th>xyz_campaign_id</th>\n",
       "      <th>Impressions</th>\n",
       "      <th>Clicks</th>\n",
       "      <th>Spent</th>\n",
       "      <th>Approved_Conversion</th>\n",
       "      <th>CTR</th>\n",
       "      <th>CPC</th>\n",
       "      <th>CPA</th>\n",
       "    </tr>\n",
       "  </thead>\n",
       "  <tbody>\n",
       "    <tr>\n",
       "      <th>0</th>\n",
       "      <td>916</td>\n",
       "      <td>482925</td>\n",
       "      <td>113</td>\n",
       "      <td>149.710</td>\n",
       "      <td>24</td>\n",
       "      <td>0.023</td>\n",
       "      <td>1.325</td>\n",
       "      <td>6.238</td>\n",
       "    </tr>\n",
       "    <tr>\n",
       "      <th>1</th>\n",
       "      <td>936</td>\n",
       "      <td>8128187</td>\n",
       "      <td>1984</td>\n",
       "      <td>2893.370</td>\n",
       "      <td>183</td>\n",
       "      <td>0.024</td>\n",
       "      <td>1.458</td>\n",
       "      <td>15.811</td>\n",
       "    </tr>\n",
       "  </tbody>\n",
       "</table>\n",
       "</div>"
      ],
      "text/plain": [
       "   xyz_campaign_id  Impressions  Clicks    Spent  Approved_Conversion   CTR  \\\n",
       "0              916       482925     113  149.710                   24 0.023   \n",
       "1              936      8128187    1984 2893.370                  183 0.024   \n",
       "\n",
       "    CPC    CPA  \n",
       "0 1.325  6.238  \n",
       "1 1.458 15.811  "
      ]
     },
     "execution_count": 802,
     "metadata": {},
     "output_type": "execute_result"
    }
   ],
   "source": [
    "high_perf_campaign[(high_perf_campaign['CTR']>df['CTR'].mean()) & (high_perf_campaign['CPA']<df['CPA'].mean())]"
   ]
  },
  {
   "cell_type": "markdown",
   "id": "69ba17e8",
   "metadata": {},
   "source": [
    "#### 🏷️ xyz_campaign_id=916 is the best campaign (has the lowest CPA)\n",
    "#### 🏷️ xyz_campaign_id=1178 is the worst"
   ]
  },
  {
   "cell_type": "markdown",
   "id": "8f97e822",
   "metadata": {},
   "source": []
  },
  {
   "cell_type": "markdown",
   "id": "82cadacf",
   "metadata": {},
   "source": [
    "# 😁💪 Recommendations\n",
    "\n",
    "After running these test, We conclude that:\n",
    "* 📌 Shift budget toward segments with high CTR and low CPA.  💡 **(30-34 /\tM)**\n",
    "* 📌 Reduce spend on segments with high CPA and low CTR.\n",
    "* 📌 Consider interest-based targeting: Find top-performing interests and allocate more ads there.\n",
    "* 📌 Test new creatives for low CTR segments before cutting them completely."
   ]
  },
  {
   "cell_type": "markdown",
   "id": "025ffa33",
   "metadata": {},
   "source": []
  }
 ],
 "metadata": {
  "kernelspec": {
   "display_name": "base",
   "language": "python",
   "name": "python3"
  },
  "language_info": {
   "codemirror_mode": {
    "name": "ipython",
    "version": 3
   },
   "file_extension": ".py",
   "mimetype": "text/x-python",
   "name": "python",
   "nbconvert_exporter": "python",
   "pygments_lexer": "ipython3",
   "version": "3.12.2"
  }
 },
 "nbformat": 4,
 "nbformat_minor": 5
}
