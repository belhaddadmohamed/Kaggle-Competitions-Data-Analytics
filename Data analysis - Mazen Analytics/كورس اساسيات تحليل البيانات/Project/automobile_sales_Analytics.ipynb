{
 "cells": [
  {
   "cell_type": "code",
   "execution_count": 1,
   "id": "46def696",
   "metadata": {},
   "outputs": [],
   "source": [
    "import pandas as pd"
   ]
  },
  {
   "cell_type": "code",
   "execution_count": 2,
   "id": "2b210722",
   "metadata": {},
   "outputs": [
    {
     "data": {
      "text/html": [
       "<div>\n",
       "<style scoped>\n",
       "    .dataframe tbody tr th:only-of-type {\n",
       "        vertical-align: middle;\n",
       "    }\n",
       "\n",
       "    .dataframe tbody tr th {\n",
       "        vertical-align: top;\n",
       "    }\n",
       "\n",
       "    .dataframe thead th {\n",
       "        text-align: right;\n",
       "    }\n",
       "</style>\n",
       "<table border=\"1\" class=\"dataframe\">\n",
       "  <thead>\n",
       "    <tr style=\"text-align: right;\">\n",
       "      <th></th>\n",
       "      <th>Date</th>\n",
       "      <th>Recession</th>\n",
       "      <th>Consumer_Confidence</th>\n",
       "      <th>Price</th>\n",
       "      <th>Advertising_Expenditure</th>\n",
       "      <th>GDP</th>\n",
       "      <th>Growth_Rate</th>\n",
       "      <th>unemployment_rate</th>\n",
       "      <th>Automobile_Sales</th>\n",
       "      <th>Vehicle_Type</th>\n",
       "      <th>City</th>\n",
       "    </tr>\n",
       "  </thead>\n",
       "  <tbody>\n",
       "    <tr>\n",
       "      <th>0</th>\n",
       "      <td>32508</td>\n",
       "      <td>NO</td>\n",
       "      <td>131.67</td>\n",
       "      <td>25872.889</td>\n",
       "      <td>2970</td>\n",
       "      <td>45.978</td>\n",
       "      <td>0.115055</td>\n",
       "      <td>2.6</td>\n",
       "      <td>2120.6</td>\n",
       "      <td>Sports</td>\n",
       "      <td>Georgia</td>\n",
       "    </tr>\n",
       "    <tr>\n",
       "      <th>1</th>\n",
       "      <td>37652</td>\n",
       "      <td>NO</td>\n",
       "      <td>131.05</td>\n",
       "      <td>25995.298</td>\n",
       "      <td>4572</td>\n",
       "      <td>67.254</td>\n",
       "      <td>0.057736</td>\n",
       "      <td>2.4</td>\n",
       "      <td>3692.8</td>\n",
       "      <td>Mediumfamilycar</td>\n",
       "      <td>Georgia</td>\n",
       "    </tr>\n",
       "    <tr>\n",
       "      <th>2</th>\n",
       "      <td>30863</td>\n",
       "      <td>NO</td>\n",
       "      <td>127.42</td>\n",
       "      <td>28058.381</td>\n",
       "      <td>2570</td>\n",
       "      <td>41.930</td>\n",
       "      <td>0.224350</td>\n",
       "      <td>2.4</td>\n",
       "      <td>2194.6</td>\n",
       "      <td>Supperminicar</td>\n",
       "      <td>New York</td>\n",
       "    </tr>\n",
       "    <tr>\n",
       "      <th>3</th>\n",
       "      <td>30375</td>\n",
       "      <td>NO</td>\n",
       "      <td>126.06</td>\n",
       "      <td>15201.649</td>\n",
       "      <td>4621</td>\n",
       "      <td>12.819</td>\n",
       "      <td>-1.119666</td>\n",
       "      <td>2.4</td>\n",
       "      <td>3799.1</td>\n",
       "      <td>Sports</td>\n",
       "      <td>Georgia</td>\n",
       "    </tr>\n",
       "    <tr>\n",
       "      <th>4</th>\n",
       "      <td>31381</td>\n",
       "      <td>NO</td>\n",
       "      <td>125.98</td>\n",
       "      <td>26806.978</td>\n",
       "      <td>4236</td>\n",
       "      <td>12.591</td>\n",
       "      <td>-3.775633</td>\n",
       "      <td>2.6</td>\n",
       "      <td>832.0</td>\n",
       "      <td>Mediumfamilycar</td>\n",
       "      <td>California</td>\n",
       "    </tr>\n",
       "  </tbody>\n",
       "</table>\n",
       "</div>"
      ],
      "text/plain": [
       "    Date Recession  Consumer_Confidence      Price  Advertising_Expenditure  \\\n",
       "0  32508        NO               131.67  25872.889                     2970   \n",
       "1  37652        NO               131.05  25995.298                     4572   \n",
       "2  30863        NO               127.42  28058.381                     2570   \n",
       "3  30375        NO               126.06  15201.649                     4621   \n",
       "4  31381        NO               125.98  26806.978                     4236   \n",
       "\n",
       "      GDP  Growth_Rate  unemployment_rate  Automobile_Sales     Vehicle_Type  \\\n",
       "0  45.978     0.115055                2.6            2120.6           Sports   \n",
       "1  67.254     0.057736                2.4            3692.8  Mediumfamilycar   \n",
       "2  41.930     0.224350                2.4            2194.6    Supperminicar   \n",
       "3  12.819    -1.119666                2.4            3799.1           Sports   \n",
       "4  12.591    -3.775633                2.6             832.0  Mediumfamilycar   \n",
       "\n",
       "         City  \n",
       "0     Georgia  \n",
       "1     Georgia  \n",
       "2    New York  \n",
       "3     Georgia  \n",
       "4  California  "
      ]
     },
     "execution_count": 2,
     "metadata": {},
     "output_type": "execute_result"
    }
   ],
   "source": [
    "df = pd.read_csv('Historical_automobile_sales.csv')\n",
    "df.head()"
   ]
  },
  {
   "cell_type": "code",
   "execution_count": 3,
   "id": "e1a4e2d1",
   "metadata": {},
   "outputs": [
    {
     "data": {
      "text/plain": [
       "0"
      ]
     },
     "execution_count": 3,
     "metadata": {},
     "output_type": "execute_result"
    }
   ],
   "source": [
    "df.drop_duplicates(inplace=True)\n",
    "df.duplicated().sum()"
   ]
  },
  {
   "cell_type": "code",
   "execution_count": null,
   "id": "86b49e3c",
   "metadata": {},
   "outputs": [],
   "source": []
  },
  {
   "cell_type": "code",
   "execution_count": null,
   "id": "88027364",
   "metadata": {},
   "outputs": [],
   "source": []
  }
 ],
 "metadata": {
  "kernelspec": {
   "display_name": "base",
   "language": "python",
   "name": "python3"
  },
  "language_info": {
   "codemirror_mode": {
    "name": "ipython",
    "version": 3
   },
   "file_extension": ".py",
   "mimetype": "text/x-python",
   "name": "python",
   "nbconvert_exporter": "python",
   "pygments_lexer": "ipython3",
   "version": "3.12.2"
  }
 },
 "nbformat": 4,
 "nbformat_minor": 5
}
