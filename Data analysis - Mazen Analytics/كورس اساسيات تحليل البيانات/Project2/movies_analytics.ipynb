{
 "cells": [
  {
   "cell_type": "code",
   "execution_count": 32,
   "id": "95665261",
   "metadata": {},
   "outputs": [],
   "source": [
    "import pandas as pd\n",
    "import matplotlib.pyplot as plt\n",
    "import seaborn as sns"
   ]
  },
  {
   "cell_type": "code",
   "execution_count": null,
   "id": "17340b50",
   "metadata": {},
   "outputs": [
    {
     "data": {
      "text/html": [
       "<div>\n",
       "<style scoped>\n",
       "    .dataframe tbody tr th:only-of-type {\n",
       "        vertical-align: middle;\n",
       "    }\n",
       "\n",
       "    .dataframe tbody tr th {\n",
       "        vertical-align: top;\n",
       "    }\n",
       "\n",
       "    .dataframe thead th {\n",
       "        text-align: right;\n",
       "    }\n",
       "</style>\n",
       "<table border=\"1\" class=\"dataframe\">\n",
       "  <thead>\n",
       "    <tr style=\"text-align: right;\">\n",
       "      <th></th>\n",
       "      <th>id</th>\n",
       "      <th>imdb_id</th>\n",
       "      <th>popularity</th>\n",
       "      <th>budget</th>\n",
       "      <th>revenue</th>\n",
       "      <th>original_title</th>\n",
       "      <th>cast</th>\n",
       "      <th>director</th>\n",
       "      <th>runtime</th>\n",
       "      <th>genres</th>\n",
       "      <th>vote_count</th>\n",
       "      <th>vote_average</th>\n",
       "      <th>release_year</th>\n",
       "      <th>budget_adj</th>\n",
       "      <th>revenue_adj</th>\n",
       "    </tr>\n",
       "  </thead>\n",
       "  <tbody>\n",
       "    <tr>\n",
       "      <th>0</th>\n",
       "      <td>135397</td>\n",
       "      <td>tt0369610</td>\n",
       "      <td>33</td>\n",
       "      <td>150000000</td>\n",
       "      <td>1513528810</td>\n",
       "      <td>Jurassic World</td>\n",
       "      <td>Chris Pratt|Bryce Dallas Howard|Irrfan Khan|Vi...</td>\n",
       "      <td>Colin Trevorrow</td>\n",
       "      <td>124</td>\n",
       "      <td>Action</td>\n",
       "      <td>5562</td>\n",
       "      <td>6</td>\n",
       "      <td>2015</td>\n",
       "      <td>137,999,939</td>\n",
       "      <td>1,392,445,893</td>\n",
       "    </tr>\n",
       "    <tr>\n",
       "      <th>1</th>\n",
       "      <td>76341</td>\n",
       "      <td>tt1392190</td>\n",
       "      <td>28</td>\n",
       "      <td>150000000</td>\n",
       "      <td>378436354</td>\n",
       "      <td>Mad Max: Fury Road</td>\n",
       "      <td>Tom Hardy|Charlize Theron|Hugh Keays-Byrne|Nic...</td>\n",
       "      <td>George Miller</td>\n",
       "      <td>120</td>\n",
       "      <td>Action</td>\n",
       "      <td>6185</td>\n",
       "      <td>7</td>\n",
       "      <td>2015</td>\n",
       "      <td>137,999,939</td>\n",
       "      <td>348,161,292</td>\n",
       "    </tr>\n",
       "    <tr>\n",
       "      <th>2</th>\n",
       "      <td>262500</td>\n",
       "      <td>tt2908446</td>\n",
       "      <td>13</td>\n",
       "      <td>110000000</td>\n",
       "      <td>295238201</td>\n",
       "      <td>Insurgent</td>\n",
       "      <td>Shailene Woodley|Theo James|Kate Winslet|Ansel...</td>\n",
       "      <td>Robert Schwentke</td>\n",
       "      <td>119</td>\n",
       "      <td>Adventure</td>\n",
       "      <td>2480</td>\n",
       "      <td>6</td>\n",
       "      <td>2015</td>\n",
       "      <td>101,199,956</td>\n",
       "      <td>271,619,025</td>\n",
       "    </tr>\n",
       "    <tr>\n",
       "      <th>3</th>\n",
       "      <td>140607</td>\n",
       "      <td>tt2488496</td>\n",
       "      <td>11</td>\n",
       "      <td>200000000</td>\n",
       "      <td>2068178225</td>\n",
       "      <td>Star Wars: The Force Awakens</td>\n",
       "      <td>Harrison Ford|Mark Hamill|Carrie Fisher|Adam D...</td>\n",
       "      <td>J.J. Abrams</td>\n",
       "      <td>136</td>\n",
       "      <td>Action</td>\n",
       "      <td>5292</td>\n",
       "      <td>8</td>\n",
       "      <td>2015</td>\n",
       "      <td>183,999,919</td>\n",
       "      <td>1,902,723,130</td>\n",
       "    </tr>\n",
       "    <tr>\n",
       "      <th>4</th>\n",
       "      <td>168259</td>\n",
       "      <td>tt2820852</td>\n",
       "      <td>9</td>\n",
       "      <td>190000000</td>\n",
       "      <td>1506249360</td>\n",
       "      <td>Furious 7</td>\n",
       "      <td>Vin Diesel|Paul Walker|Jason Statham|Michelle ...</td>\n",
       "      <td>James Wan</td>\n",
       "      <td>137</td>\n",
       "      <td>Action</td>\n",
       "      <td>2947</td>\n",
       "      <td>7</td>\n",
       "      <td>2015</td>\n",
       "      <td>174,799,923</td>\n",
       "      <td>1,385,748,801</td>\n",
       "    </tr>\n",
       "  </tbody>\n",
       "</table>\n",
       "</div>"
      ],
      "text/plain": [
       "       id    imdb_id  popularity     budget     revenue  \\\n",
       "0  135397  tt0369610          33  150000000  1513528810   \n",
       "1   76341  tt1392190          28  150000000   378436354   \n",
       "2  262500  tt2908446          13  110000000   295238201   \n",
       "3  140607  tt2488496          11  200000000  2068178225   \n",
       "4  168259  tt2820852           9  190000000  1506249360   \n",
       "\n",
       "                 original_title  \\\n",
       "0                Jurassic World   \n",
       "1            Mad Max: Fury Road   \n",
       "2                     Insurgent   \n",
       "3  Star Wars: The Force Awakens   \n",
       "4                     Furious 7   \n",
       "\n",
       "                                                cast          director  \\\n",
       "0  Chris Pratt|Bryce Dallas Howard|Irrfan Khan|Vi...   Colin Trevorrow   \n",
       "1  Tom Hardy|Charlize Theron|Hugh Keays-Byrne|Nic...     George Miller   \n",
       "2  Shailene Woodley|Theo James|Kate Winslet|Ansel...  Robert Schwentke   \n",
       "3  Harrison Ford|Mark Hamill|Carrie Fisher|Adam D...       J.J. Abrams   \n",
       "4  Vin Diesel|Paul Walker|Jason Statham|Michelle ...         James Wan   \n",
       "\n",
       "   runtime     genres  vote_count  vote_average  release_year  budget_adj  \\\n",
       "0      124     Action        5562             6          2015 137,999,939   \n",
       "1      120     Action        6185             7          2015 137,999,939   \n",
       "2      119  Adventure        2480             6          2015 101,199,956   \n",
       "3      136     Action        5292             8          2015 183,999,919   \n",
       "4      137     Action        2947             7          2015 174,799,923   \n",
       "\n",
       "    revenue_adj  \n",
       "0 1,392,445,893  \n",
       "1   348,161,292  \n",
       "2   271,619,025  \n",
       "3 1,902,723,130  \n",
       "4 1,385,748,801  "
      ]
     },
     "execution_count": 33,
     "metadata": {},
     "output_type": "execute_result"
    }
   ],
   "source": [
    "# Load the data in kaggle use\n",
    "# df = pd.read_csv(r\"/kaggle/input/tmdb-movies/tmdb-movies.csv\", encoding='latin1')\n",
    "df = pd.read_csv(r\"C:\\Users\\PC-MOH\\Desktop\\Projects\\Data Science\\Ds (Data Analysis)\\Data analysis - Mazen Analytics\\كورس اساسيات تحليل البيانات\\Data\\tmdb-movies.csv\", encoding='latin1')\n",
    "df.head()"
   ]
  },
  {
   "cell_type": "code",
   "execution_count": 34,
   "id": "6a0e75e3",
   "metadata": {},
   "outputs": [
    {
     "data": {
      "text/plain": [
       "(47, 15)"
      ]
     },
     "execution_count": 34,
     "metadata": {},
     "output_type": "execute_result"
    }
   ],
   "source": [
    "df[df.duplicated(subset=['original_title'])].shape"
   ]
  },
  {
   "cell_type": "markdown",
   "id": "deaefa97",
   "metadata": {},
   "source": [
    "# 🧼 1. Data Wrangling\n",
    "### ✅ 1.1 EDA (Exploratory Data Analysis)"
   ]
  },
  {
   "cell_type": "code",
   "execution_count": 35,
   "id": "d42c3d24",
   "metadata": {},
   "outputs": [
    {
     "data": {
      "text/plain": [
       "(3854, 15)"
      ]
     },
     "execution_count": 35,
     "metadata": {},
     "output_type": "execute_result"
    }
   ],
   "source": [
    "df.shape"
   ]
  },
  {
   "cell_type": "code",
   "execution_count": 36,
   "id": "8340342d",
   "metadata": {},
   "outputs": [
    {
     "data": {
      "text/plain": [
       "1"
      ]
     },
     "execution_count": 36,
     "metadata": {},
     "output_type": "execute_result"
    }
   ],
   "source": [
    "df.duplicated().sum()"
   ]
  },
  {
   "cell_type": "code",
   "execution_count": 37,
   "id": "9c0b925f",
   "metadata": {},
   "outputs": [
    {
     "name": "stdout",
     "output_type": "stream",
     "text": [
      "(3853, 15)\n"
     ]
    }
   ],
   "source": [
    "df.drop_duplicates(subset=df.columns, inplace=True)\n",
    "print(df.shape)"
   ]
  },
  {
   "cell_type": "code",
   "execution_count": 38,
   "id": "77489019",
   "metadata": {},
   "outputs": [
    {
     "data": {
      "text/html": [
       "<div>\n",
       "<style scoped>\n",
       "    .dataframe tbody tr th:only-of-type {\n",
       "        vertical-align: middle;\n",
       "    }\n",
       "\n",
       "    .dataframe tbody tr th {\n",
       "        vertical-align: top;\n",
       "    }\n",
       "\n",
       "    .dataframe thead th {\n",
       "        text-align: right;\n",
       "    }\n",
       "</style>\n",
       "<table border=\"1\" class=\"dataframe\">\n",
       "  <thead>\n",
       "    <tr style=\"text-align: right;\">\n",
       "      <th></th>\n",
       "      <th>id</th>\n",
       "      <th>popularity</th>\n",
       "      <th>budget</th>\n",
       "      <th>revenue</th>\n",
       "      <th>runtime</th>\n",
       "      <th>vote_count</th>\n",
       "      <th>vote_average</th>\n",
       "      <th>release_year</th>\n",
       "      <th>budget_adj</th>\n",
       "      <th>revenue_adj</th>\n",
       "    </tr>\n",
       "  </thead>\n",
       "  <tbody>\n",
       "    <tr>\n",
       "      <th>count</th>\n",
       "      <td>3,853</td>\n",
       "      <td>3,853</td>\n",
       "      <td>3,853</td>\n",
       "      <td>3,853</td>\n",
       "      <td>3,853</td>\n",
       "      <td>3,853</td>\n",
       "      <td>3,853</td>\n",
       "      <td>3,853</td>\n",
       "      <td>3,853</td>\n",
       "      <td>3,853</td>\n",
       "    </tr>\n",
       "    <tr>\n",
       "      <th>mean</th>\n",
       "      <td>39,896</td>\n",
       "      <td>1</td>\n",
       "      <td>37,210,757</td>\n",
       "      <td>107,714,185</td>\n",
       "      <td>109</td>\n",
       "      <td>528</td>\n",
       "      <td>6</td>\n",
       "      <td>2,001</td>\n",
       "      <td>44,248,479</td>\n",
       "      <td>137,099,826</td>\n",
       "    </tr>\n",
       "    <tr>\n",
       "      <th>std</th>\n",
       "      <td>67,230</td>\n",
       "      <td>1</td>\n",
       "      <td>42,211,427</td>\n",
       "      <td>176,553,962</td>\n",
       "      <td>20</td>\n",
       "      <td>880</td>\n",
       "      <td>1</td>\n",
       "      <td>11</td>\n",
       "      <td>44,811,973</td>\n",
       "      <td>216,128,392</td>\n",
       "    </tr>\n",
       "    <tr>\n",
       "      <th>min</th>\n",
       "      <td>5</td>\n",
       "      <td>0</td>\n",
       "      <td>1</td>\n",
       "      <td>2</td>\n",
       "      <td>15</td>\n",
       "      <td>10</td>\n",
       "      <td>2</td>\n",
       "      <td>1,960</td>\n",
       "      <td>1</td>\n",
       "      <td>2</td>\n",
       "    </tr>\n",
       "    <tr>\n",
       "      <th>25%</th>\n",
       "      <td>6,073</td>\n",
       "      <td>0</td>\n",
       "      <td>10,000,000</td>\n",
       "      <td>13,609,396</td>\n",
       "      <td>95</td>\n",
       "      <td>71</td>\n",
       "      <td>6</td>\n",
       "      <td>1,995</td>\n",
       "      <td>13,090,528</td>\n",
       "      <td>18,404,200</td>\n",
       "    </tr>\n",
       "    <tr>\n",
       "      <th>50%</th>\n",
       "      <td>11,321</td>\n",
       "      <td>1</td>\n",
       "      <td>24,000,000</td>\n",
       "      <td>44,806,783</td>\n",
       "      <td>106</td>\n",
       "      <td>204</td>\n",
       "      <td>6</td>\n",
       "      <td>2,004</td>\n",
       "      <td>30,016,643</td>\n",
       "      <td>61,742,745</td>\n",
       "    </tr>\n",
       "    <tr>\n",
       "      <th>75%</th>\n",
       "      <td>38,575</td>\n",
       "      <td>1</td>\n",
       "      <td>50,000,000</td>\n",
       "      <td>124,272,124</td>\n",
       "      <td>119</td>\n",
       "      <td>580</td>\n",
       "      <td>7</td>\n",
       "      <td>2,010</td>\n",
       "      <td>60,613,070</td>\n",
       "      <td>163,275,219</td>\n",
       "    </tr>\n",
       "    <tr>\n",
       "      <th>max</th>\n",
       "      <td>417,859</td>\n",
       "      <td>33</td>\n",
       "      <td>425,000,000</td>\n",
       "      <td>2,781,505,847</td>\n",
       "      <td>338</td>\n",
       "      <td>9,767</td>\n",
       "      <td>8</td>\n",
       "      <td>2,015</td>\n",
       "      <td>425,000,000</td>\n",
       "      <td>2,827,123,750</td>\n",
       "    </tr>\n",
       "  </tbody>\n",
       "</table>\n",
       "</div>"
      ],
      "text/plain": [
       "           id  popularity      budget       revenue  runtime  vote_count  \\\n",
       "count   3,853       3,853       3,853         3,853    3,853       3,853   \n",
       "mean   39,896           1  37,210,757   107,714,185      109         528   \n",
       "std    67,230           1  42,211,427   176,553,962       20         880   \n",
       "min         5           0           1             2       15          10   \n",
       "25%     6,073           0  10,000,000    13,609,396       95          71   \n",
       "50%    11,321           1  24,000,000    44,806,783      106         204   \n",
       "75%    38,575           1  50,000,000   124,272,124      119         580   \n",
       "max   417,859          33 425,000,000 2,781,505,847      338       9,767   \n",
       "\n",
       "       vote_average  release_year  budget_adj   revenue_adj  \n",
       "count         3,853         3,853       3,853         3,853  \n",
       "mean              6         2,001  44,248,479   137,099,826  \n",
       "std               1            11  44,811,973   216,128,392  \n",
       "min               2         1,960           1             2  \n",
       "25%               6         1,995  13,090,528    18,404,200  \n",
       "50%               6         2,004  30,016,643    61,742,745  \n",
       "75%               7         2,010  60,613,070   163,275,219  \n",
       "max               8         2,015 425,000,000 2,827,123,750  "
      ]
     },
     "execution_count": 38,
     "metadata": {},
     "output_type": "execute_result"
    }
   ],
   "source": [
    "pd.set_option('display.float_format', '{:,.0f}'.format)\n",
    "df.describe()"
   ]
  },
  {
   "cell_type": "code",
   "execution_count": 39,
   "id": "58393cb4",
   "metadata": {},
   "outputs": [
    {
     "name": "stdout",
     "output_type": "stream",
     "text": [
      "<class 'pandas.core.frame.DataFrame'>\n",
      "Index: 3853 entries, 0 to 3853\n",
      "Data columns (total 15 columns):\n",
      " #   Column          Non-Null Count  Dtype  \n",
      "---  ------          --------------  -----  \n",
      " 0   id              3853 non-null   int64  \n",
      " 1   imdb_id         3853 non-null   object \n",
      " 2   popularity      3853 non-null   float64\n",
      " 3   budget          3853 non-null   int64  \n",
      " 4   revenue         3853 non-null   int64  \n",
      " 5   original_title  3853 non-null   object \n",
      " 6   cast            3849 non-null   object \n",
      " 7   director        3852 non-null   object \n",
      " 8   runtime         3853 non-null   int64  \n",
      " 9   genres          3853 non-null   object \n",
      " 10  vote_count      3853 non-null   int64  \n",
      " 11  vote_average    3853 non-null   float64\n",
      " 12  release_year    3853 non-null   int64  \n",
      " 13  budget_adj      3853 non-null   float64\n",
      " 14  revenue_adj     3853 non-null   float64\n",
      "dtypes: float64(4), int64(6), object(5)\n",
      "memory usage: 481.6+ KB\n"
     ]
    }
   ],
   "source": [
    "df.info()"
   ]
  },
  {
   "cell_type": "code",
   "execution_count": 40,
   "id": "b9f66745",
   "metadata": {},
   "outputs": [
    {
     "data": {
      "text/html": [
       "<div>\n",
       "<style scoped>\n",
       "    .dataframe tbody tr th:only-of-type {\n",
       "        vertical-align: middle;\n",
       "    }\n",
       "\n",
       "    .dataframe tbody tr th {\n",
       "        vertical-align: top;\n",
       "    }\n",
       "\n",
       "    .dataframe thead th {\n",
       "        text-align: right;\n",
       "    }\n",
       "</style>\n",
       "<table border=\"1\" class=\"dataframe\">\n",
       "  <thead>\n",
       "    <tr style=\"text-align: right;\">\n",
       "      <th></th>\n",
       "      <th>id</th>\n",
       "      <th>imdb_id</th>\n",
       "      <th>popularity</th>\n",
       "      <th>budget</th>\n",
       "      <th>revenue</th>\n",
       "      <th>original_title</th>\n",
       "      <th>cast</th>\n",
       "      <th>director</th>\n",
       "      <th>runtime</th>\n",
       "      <th>genres</th>\n",
       "      <th>vote_count</th>\n",
       "      <th>vote_average</th>\n",
       "      <th>release_year</th>\n",
       "      <th>budget_adj</th>\n",
       "      <th>revenue_adj</th>\n",
       "    </tr>\n",
       "  </thead>\n",
       "  <tbody>\n",
       "    <tr>\n",
       "      <th>1421</th>\n",
       "      <td>21925</td>\n",
       "      <td>tt0145937</td>\n",
       "      <td>0</td>\n",
       "      <td>3000000</td>\n",
       "      <td>13308</td>\n",
       "      <td>Naqoyqatsi</td>\n",
       "      <td>NaN</td>\n",
       "      <td>Godfrey Reggio</td>\n",
       "      <td>89</td>\n",
       "      <td>Documentary</td>\n",
       "      <td>20</td>\n",
       "      <td>6</td>\n",
       "      <td>2002</td>\n",
       "      <td>3,636,784</td>\n",
       "      <td>16,133</td>\n",
       "    </tr>\n",
       "    <tr>\n",
       "      <th>1645</th>\n",
       "      <td>126509</td>\n",
       "      <td>tt2247692</td>\n",
       "      <td>0</td>\n",
       "      <td>2500000</td>\n",
       "      <td>33400000</td>\n",
       "      <td>2016: Obama's America</td>\n",
       "      <td>NaN</td>\n",
       "      <td>Dinesh D'Souza|John Sullivan</td>\n",
       "      <td>87</td>\n",
       "      <td>Documentary</td>\n",
       "      <td>11</td>\n",
       "      <td>5</td>\n",
       "      <td>2012</td>\n",
       "      <td>2,374,361</td>\n",
       "      <td>31,721,459</td>\n",
       "    </tr>\n",
       "    <tr>\n",
       "      <th>2751</th>\n",
       "      <td>22887</td>\n",
       "      <td>tt0914809</td>\n",
       "      <td>0</td>\n",
       "      <td>6000</td>\n",
       "      <td>6000</td>\n",
       "      <td>Loose Change: Final Cut</td>\n",
       "      <td>NaN</td>\n",
       "      <td>Dylan Avery</td>\n",
       "      <td>129</td>\n",
       "      <td>Documentary</td>\n",
       "      <td>12</td>\n",
       "      <td>5</td>\n",
       "      <td>2007</td>\n",
       "      <td>6,310</td>\n",
       "      <td>6,310</td>\n",
       "    </tr>\n",
       "    <tr>\n",
       "      <th>3465</th>\n",
       "      <td>24348</td>\n",
       "      <td>tt0095895</td>\n",
       "      <td>0</td>\n",
       "      <td>2500000</td>\n",
       "      <td>589244</td>\n",
       "      <td>Powaqqatsi</td>\n",
       "      <td>NaN</td>\n",
       "      <td>Godfrey Reggio</td>\n",
       "      <td>99</td>\n",
       "      <td>Documentary</td>\n",
       "      <td>18</td>\n",
       "      <td>7</td>\n",
       "      <td>1988</td>\n",
       "      <td>4,609,728</td>\n",
       "      <td>1,086,502</td>\n",
       "    </tr>\n",
       "    <tr>\n",
       "      <th>1096</th>\n",
       "      <td>15467</td>\n",
       "      <td>tt1105733</td>\n",
       "      <td>0</td>\n",
       "      <td>4180000</td>\n",
       "      <td>11000000</td>\n",
       "      <td>Kismat Konnection</td>\n",
       "      <td>Shahid Kapoor|Vidya Balan|Juhi Chawla|Om Puri|...</td>\n",
       "      <td>NaN</td>\n",
       "      <td>153</td>\n",
       "      <td>Drama</td>\n",
       "      <td>11</td>\n",
       "      <td>6</td>\n",
       "      <td>2008</td>\n",
       "      <td>4,233,448</td>\n",
       "      <td>11,140,653</td>\n",
       "    </tr>\n",
       "  </tbody>\n",
       "</table>\n",
       "</div>"
      ],
      "text/plain": [
       "          id    imdb_id  popularity   budget   revenue  \\\n",
       "1421   21925  tt0145937           0  3000000     13308   \n",
       "1645  126509  tt2247692           0  2500000  33400000   \n",
       "2751   22887  tt0914809           0     6000      6000   \n",
       "3465   24348  tt0095895           0  2500000    589244   \n",
       "1096   15467  tt1105733           0  4180000  11000000   \n",
       "\n",
       "               original_title  \\\n",
       "1421               Naqoyqatsi   \n",
       "1645    2016: Obama's America   \n",
       "2751  Loose Change: Final Cut   \n",
       "3465               Powaqqatsi   \n",
       "1096        Kismat Konnection   \n",
       "\n",
       "                                                   cast  \\\n",
       "1421                                                NaN   \n",
       "1645                                                NaN   \n",
       "2751                                                NaN   \n",
       "3465                                                NaN   \n",
       "1096  Shahid Kapoor|Vidya Balan|Juhi Chawla|Om Puri|...   \n",
       "\n",
       "                          director  runtime       genres  vote_count  \\\n",
       "1421                Godfrey Reggio       89  Documentary          20   \n",
       "1645  Dinesh D'Souza|John Sullivan       87  Documentary          11   \n",
       "2751                   Dylan Avery      129  Documentary          12   \n",
       "3465                Godfrey Reggio       99  Documentary          18   \n",
       "1096                           NaN      153        Drama          11   \n",
       "\n",
       "      vote_average  release_year  budget_adj  revenue_adj  \n",
       "1421             6          2002   3,636,784       16,133  \n",
       "1645             5          2012   2,374,361   31,721,459  \n",
       "2751             5          2007       6,310        6,310  \n",
       "3465             7          1988   4,609,728    1,086,502  \n",
       "1096             6          2008   4,233,448   11,140,653  "
      ]
     },
     "execution_count": 40,
     "metadata": {},
     "output_type": "execute_result"
    }
   ],
   "source": [
    "# Check rows with null values\n",
    "pd.concat([df[df['cast'].isnull()], df[df['director'].isnull()]])"
   ]
  },
  {
   "cell_type": "code",
   "execution_count": 41,
   "id": "8bea5d81",
   "metadata": {},
   "outputs": [
    {
     "data": {
      "text/plain": [
       "Index             30824\n",
       "id                30824\n",
       "imdb_id           30824\n",
       "popularity        30824\n",
       "budget            30824\n",
       "revenue           30824\n",
       "original_title    30824\n",
       "cast              30824\n",
       "director          30824\n",
       "runtime           30824\n",
       "genres            30824\n",
       "vote_count        30824\n",
       "vote_average      30824\n",
       "release_year      30824\n",
       "budget_adj        30824\n",
       "revenue_adj       30824\n",
       "dtype: int64"
      ]
     },
     "execution_count": 41,
     "metadata": {},
     "output_type": "execute_result"
    }
   ],
   "source": [
    "# memory_usage(): helps you analyze and optimize memory consumption, which is crucial when working with large datasets or memory-sensitive applications.\n",
    "# ex: Convert int64 → int32 or int16. if int64 consume more memory\n",
    "df.memory_usage()"
   ]
  },
  {
   "cell_type": "markdown",
   "id": "96094849",
   "metadata": {},
   "source": [
    "### ✅ 1.2 Data Cleaning"
   ]
  },
  {
   "cell_type": "code",
   "execution_count": 42,
   "id": "62158da5",
   "metadata": {},
   "outputs": [
    {
     "data": {
      "text/plain": [
       "3853"
      ]
     },
     "execution_count": 42,
     "metadata": {},
     "output_type": "execute_result"
    }
   ],
   "source": [
    "df['id'].nunique()"
   ]
  },
  {
   "cell_type": "code",
   "execution_count": 43,
   "id": "185612b9",
   "metadata": {},
   "outputs": [
    {
     "data": {
      "text/html": [
       "<div>\n",
       "<style scoped>\n",
       "    .dataframe tbody tr th:only-of-type {\n",
       "        vertical-align: middle;\n",
       "    }\n",
       "\n",
       "    .dataframe tbody tr th {\n",
       "        vertical-align: top;\n",
       "    }\n",
       "\n",
       "    .dataframe thead th {\n",
       "        text-align: right;\n",
       "    }\n",
       "</style>\n",
       "<table border=\"1\" class=\"dataframe\">\n",
       "  <thead>\n",
       "    <tr style=\"text-align: right;\">\n",
       "      <th></th>\n",
       "      <th>imdb_id</th>\n",
       "      <th>popularity</th>\n",
       "      <th>budget</th>\n",
       "      <th>revenue</th>\n",
       "      <th>original_title</th>\n",
       "      <th>cast</th>\n",
       "      <th>director</th>\n",
       "      <th>runtime</th>\n",
       "      <th>genres</th>\n",
       "      <th>vote_count</th>\n",
       "      <th>vote_average</th>\n",
       "      <th>release_year</th>\n",
       "      <th>budget_adj</th>\n",
       "      <th>revenue_adj</th>\n",
       "    </tr>\n",
       "    <tr>\n",
       "      <th>id</th>\n",
       "      <th></th>\n",
       "      <th></th>\n",
       "      <th></th>\n",
       "      <th></th>\n",
       "      <th></th>\n",
       "      <th></th>\n",
       "      <th></th>\n",
       "      <th></th>\n",
       "      <th></th>\n",
       "      <th></th>\n",
       "      <th></th>\n",
       "      <th></th>\n",
       "      <th></th>\n",
       "      <th></th>\n",
       "    </tr>\n",
       "  </thead>\n",
       "  <tbody>\n",
       "    <tr>\n",
       "      <th>135397</th>\n",
       "      <td>tt0369610</td>\n",
       "      <td>33</td>\n",
       "      <td>150000000</td>\n",
       "      <td>1513528810</td>\n",
       "      <td>Jurassic World</td>\n",
       "      <td>Chris Pratt|Bryce Dallas Howard|Irrfan Khan|Vi...</td>\n",
       "      <td>Colin Trevorrow</td>\n",
       "      <td>124</td>\n",
       "      <td>Action</td>\n",
       "      <td>5562</td>\n",
       "      <td>6</td>\n",
       "      <td>2015</td>\n",
       "      <td>137,999,939</td>\n",
       "      <td>1,392,445,893</td>\n",
       "    </tr>\n",
       "    <tr>\n",
       "      <th>76341</th>\n",
       "      <td>tt1392190</td>\n",
       "      <td>28</td>\n",
       "      <td>150000000</td>\n",
       "      <td>378436354</td>\n",
       "      <td>Mad Max: Fury Road</td>\n",
       "      <td>Tom Hardy|Charlize Theron|Hugh Keays-Byrne|Nic...</td>\n",
       "      <td>George Miller</td>\n",
       "      <td>120</td>\n",
       "      <td>Action</td>\n",
       "      <td>6185</td>\n",
       "      <td>7</td>\n",
       "      <td>2015</td>\n",
       "      <td>137,999,939</td>\n",
       "      <td>348,161,292</td>\n",
       "    </tr>\n",
       "    <tr>\n",
       "      <th>262500</th>\n",
       "      <td>tt2908446</td>\n",
       "      <td>13</td>\n",
       "      <td>110000000</td>\n",
       "      <td>295238201</td>\n",
       "      <td>Insurgent</td>\n",
       "      <td>Shailene Woodley|Theo James|Kate Winslet|Ansel...</td>\n",
       "      <td>Robert Schwentke</td>\n",
       "      <td>119</td>\n",
       "      <td>Adventure</td>\n",
       "      <td>2480</td>\n",
       "      <td>6</td>\n",
       "      <td>2015</td>\n",
       "      <td>101,199,956</td>\n",
       "      <td>271,619,025</td>\n",
       "    </tr>\n",
       "    <tr>\n",
       "      <th>140607</th>\n",
       "      <td>tt2488496</td>\n",
       "      <td>11</td>\n",
       "      <td>200000000</td>\n",
       "      <td>2068178225</td>\n",
       "      <td>Star Wars: The Force Awakens</td>\n",
       "      <td>Harrison Ford|Mark Hamill|Carrie Fisher|Adam D...</td>\n",
       "      <td>J.J. Abrams</td>\n",
       "      <td>136</td>\n",
       "      <td>Action</td>\n",
       "      <td>5292</td>\n",
       "      <td>8</td>\n",
       "      <td>2015</td>\n",
       "      <td>183,999,919</td>\n",
       "      <td>1,902,723,130</td>\n",
       "    </tr>\n",
       "    <tr>\n",
       "      <th>168259</th>\n",
       "      <td>tt2820852</td>\n",
       "      <td>9</td>\n",
       "      <td>190000000</td>\n",
       "      <td>1506249360</td>\n",
       "      <td>Furious 7</td>\n",
       "      <td>Vin Diesel|Paul Walker|Jason Statham|Michelle ...</td>\n",
       "      <td>James Wan</td>\n",
       "      <td>137</td>\n",
       "      <td>Action</td>\n",
       "      <td>2947</td>\n",
       "      <td>7</td>\n",
       "      <td>2015</td>\n",
       "      <td>174,799,923</td>\n",
       "      <td>1,385,748,801</td>\n",
       "    </tr>\n",
       "  </tbody>\n",
       "</table>\n",
       "</div>"
      ],
      "text/plain": [
       "          imdb_id  popularity     budget     revenue  \\\n",
       "id                                                     \n",
       "135397  tt0369610          33  150000000  1513528810   \n",
       "76341   tt1392190          28  150000000   378436354   \n",
       "262500  tt2908446          13  110000000   295238201   \n",
       "140607  tt2488496          11  200000000  2068178225   \n",
       "168259  tt2820852           9  190000000  1506249360   \n",
       "\n",
       "                      original_title  \\\n",
       "id                                     \n",
       "135397                Jurassic World   \n",
       "76341             Mad Max: Fury Road   \n",
       "262500                     Insurgent   \n",
       "140607  Star Wars: The Force Awakens   \n",
       "168259                     Furious 7   \n",
       "\n",
       "                                                     cast          director  \\\n",
       "id                                                                            \n",
       "135397  Chris Pratt|Bryce Dallas Howard|Irrfan Khan|Vi...   Colin Trevorrow   \n",
       "76341   Tom Hardy|Charlize Theron|Hugh Keays-Byrne|Nic...     George Miller   \n",
       "262500  Shailene Woodley|Theo James|Kate Winslet|Ansel...  Robert Schwentke   \n",
       "140607  Harrison Ford|Mark Hamill|Carrie Fisher|Adam D...       J.J. Abrams   \n",
       "168259  Vin Diesel|Paul Walker|Jason Statham|Michelle ...         James Wan   \n",
       "\n",
       "        runtime     genres  vote_count  vote_average  release_year  \\\n",
       "id                                                                   \n",
       "135397      124     Action        5562             6          2015   \n",
       "76341       120     Action        6185             7          2015   \n",
       "262500      119  Adventure        2480             6          2015   \n",
       "140607      136     Action        5292             8          2015   \n",
       "168259      137     Action        2947             7          2015   \n",
       "\n",
       "        budget_adj   revenue_adj  \n",
       "id                                \n",
       "135397 137,999,939 1,392,445,893  \n",
       "76341  137,999,939   348,161,292  \n",
       "262500 101,199,956   271,619,025  \n",
       "140607 183,999,919 1,902,723,130  \n",
       "168259 174,799,923 1,385,748,801  "
      ]
     },
     "execution_count": 43,
     "metadata": {},
     "output_type": "execute_result"
    }
   ],
   "source": [
    "df.set_index('id', inplace=True)\n",
    "df.head()"
   ]
  },
  {
   "cell_type": "code",
   "execution_count": 44,
   "id": "7f72aea0",
   "metadata": {},
   "outputs": [
    {
     "data": {
      "text/plain": [
       "original_title    Do the Right Thing\n",
       "genres                         Crime\n",
       "director                   Spike Lee\n",
       "Name: 925, dtype: object"
      ]
     },
     "execution_count": 44,
     "metadata": {},
     "output_type": "execute_result"
    }
   ],
   "source": [
    "df.loc[925, ['original_title', 'genres', 'director']]"
   ]
  },
  {
   "cell_type": "code",
   "execution_count": null,
   "id": "e811dbf8",
   "metadata": {},
   "outputs": [],
   "source": []
  },
  {
   "cell_type": "code",
   "execution_count": null,
   "id": "10560316",
   "metadata": {},
   "outputs": [],
   "source": []
  },
  {
   "cell_type": "markdown",
   "id": "91122eb2",
   "metadata": {},
   "source": [
    "# 🕵️‍♂️ 2. Data Analysis"
   ]
  },
  {
   "cell_type": "markdown",
   "id": "262a3dbf",
   "metadata": {},
   "source": [
    "### ✅ 1. General Statistics"
   ]
  },
  {
   "cell_type": "code",
   "execution_count": 45,
   "id": "dabf8453",
   "metadata": {},
   "outputs": [
    {
     "data": {
      "text/plain": [
       "107714185.42771865"
      ]
     },
     "execution_count": 45,
     "metadata": {},
     "output_type": "execute_result"
    }
   ],
   "source": [
    "# What is the average budget and average revenue of the movies?\n",
    "df['revenue'].mean()"
   ]
  },
  {
   "cell_type": "code",
   "execution_count": 46,
   "id": "fd3301fe",
   "metadata": {},
   "outputs": [
    {
     "data": {
      "text/plain": [
       "genres\n",
       "Drama              890\n",
       "Comedy             787\n",
       "Action             689\n",
       "Adventure          314\n",
       "Horror             275\n",
       "Crime              171\n",
       "Thriller           160\n",
       "Fantasy            110\n",
       "Animation          102\n",
       "Science Fiction     98\n",
       "Romance             66\n",
       "Family              40\n",
       "Mystery             36\n",
       "Documentary         32\n",
       "Music               29\n",
       "War                 20\n",
       "History             17\n",
       "Western             16\n",
       "TV Movie             1\n",
       "Name: count, dtype: int64"
      ]
     },
     "execution_count": 46,
     "metadata": {},
     "output_type": "execute_result"
    }
   ],
   "source": [
    "# What is the most common genre in the dataset?\n",
    "df['genres'].value_counts()"
   ]
  },
  {
   "cell_type": "code",
   "execution_count": 47,
   "id": "16c28d87",
   "metadata": {},
   "outputs": [
    {
     "data": {
      "text/plain": [
       "<Axes: xlabel='genres'>"
      ]
     },
     "execution_count": 47,
     "metadata": {},
     "output_type": "execute_result"
    },
    {
     "data": {
      "image/png": "[encoded data removed]",
      "text/plain": [
       "<Figure size 640x480 with 1 Axes>"
      ]
     },
     "metadata": {},
     "output_type": "display_data"
    }
   ],
   "source": [
    "df['genres'].value_counts().plot(kind='bar')"
   ]
  },
  {
   "cell_type": "code",
   "execution_count": 48,
   "id": "f5b629b3",
   "metadata": {},
   "outputs": [
    {
     "data": {
      "text/plain": [
       "id\n",
       "135397    Jurassic World\n",
       "Name: original_title, dtype: object"
      ]
     },
     "execution_count": 48,
     "metadata": {},
     "output_type": "execute_result"
    }
   ],
   "source": [
    "# Which movie has the highest popularity score?\n",
    "df[df['popularity'] == df['popularity'].max()]['original_title']"
   ]
  },
  {
   "cell_type": "code",
   "execution_count": 49,
   "id": "941161df",
   "metadata": {},
   "outputs": [
    {
     "data": {
      "text/plain": [
       "109.22242408512847"
      ]
     },
     "execution_count": 49,
     "metadata": {},
     "output_type": "execute_result"
    }
   ],
   "source": [
    "# What is the average runtime of movies?  (min)\n",
    "df['runtime'].mean()"
   ]
  },
  {
   "cell_type": "markdown",
   "id": "7d3f6bd3",
   "metadata": {},
   "source": [
    "### ✅ 2. Profitability Analysis"
   ]
  },
  {
   "cell_type": "code",
   "execution_count": 50,
   "id": "287f9761",
   "metadata": {},
   "outputs": [
    {
     "data": {
      "text/plain": [
       "id\n",
       "19995    Avatar\n",
       "Name: original_title, dtype: object"
      ]
     },
     "execution_count": 50,
     "metadata": {},
     "output_type": "execute_result"
    }
   ],
   "source": [
    "# Which movie had the highest revenue?\n",
    "df[df['revenue'] == df['revenue'].max()]['original_title']"
   ]
  },
  {
   "cell_type": "code",
   "execution_count": 51,
   "id": "4e8587ea",
   "metadata": {},
   "outputs": [
    {
     "data": {
      "text/html": [
       "<div>\n",
       "<style scoped>\n",
       "    .dataframe tbody tr th:only-of-type {\n",
       "        vertical-align: middle;\n",
       "    }\n",
       "\n",
       "    .dataframe tbody tr th {\n",
       "        vertical-align: top;\n",
       "    }\n",
       "\n",
       "    .dataframe thead th {\n",
       "        text-align: right;\n",
       "    }\n",
       "</style>\n",
       "<table border=\"1\" class=\"dataframe\">\n",
       "  <thead>\n",
       "    <tr style=\"text-align: right;\">\n",
       "      <th></th>\n",
       "      <th>original_title</th>\n",
       "      <th>revenue</th>\n",
       "    </tr>\n",
       "    <tr>\n",
       "      <th>id</th>\n",
       "      <th></th>\n",
       "      <th></th>\n",
       "    </tr>\n",
       "  </thead>\n",
       "  <tbody>\n",
       "    <tr>\n",
       "      <th>19995</th>\n",
       "      <td>Avatar</td>\n",
       "      <td>2781505847</td>\n",
       "    </tr>\n",
       "    <tr>\n",
       "      <th>140607</th>\n",
       "      <td>Star Wars: The Force Awakens</td>\n",
       "      <td>2068178225</td>\n",
       "    </tr>\n",
       "    <tr>\n",
       "      <th>597</th>\n",
       "      <td>Titanic</td>\n",
       "      <td>1845034188</td>\n",
       "    </tr>\n",
       "    <tr>\n",
       "      <th>24428</th>\n",
       "      <td>The Avengers</td>\n",
       "      <td>1519557910</td>\n",
       "    </tr>\n",
       "    <tr>\n",
       "      <th>135397</th>\n",
       "      <td>Jurassic World</td>\n",
       "      <td>1513528810</td>\n",
       "    </tr>\n",
       "    <tr>\n",
       "      <th>168259</th>\n",
       "      <td>Furious 7</td>\n",
       "      <td>1506249360</td>\n",
       "    </tr>\n",
       "    <tr>\n",
       "      <th>99861</th>\n",
       "      <td>Avengers: Age of Ultron</td>\n",
       "      <td>1405035767</td>\n",
       "    </tr>\n",
       "    <tr>\n",
       "      <th>12445</th>\n",
       "      <td>Harry Potter and the Deathly Hallows: Part 2</td>\n",
       "      <td>1327817822</td>\n",
       "    </tr>\n",
       "    <tr>\n",
       "      <th>109445</th>\n",
       "      <td>Frozen</td>\n",
       "      <td>1274219009</td>\n",
       "    </tr>\n",
       "    <tr>\n",
       "      <th>68721</th>\n",
       "      <td>Iron Man 3</td>\n",
       "      <td>1215439994</td>\n",
       "    </tr>\n",
       "  </tbody>\n",
       "</table>\n",
       "</div>"
      ],
      "text/plain": [
       "                                      original_title     revenue\n",
       "id                                                              \n",
       "19995                                         Avatar  2781505847\n",
       "140607                  Star Wars: The Force Awakens  2068178225\n",
       "597                                          Titanic  1845034188\n",
       "24428                                   The Avengers  1519557910\n",
       "135397                                Jurassic World  1513528810\n",
       "168259                                     Furious 7  1506249360\n",
       "99861                        Avengers: Age of Ultron  1405035767\n",
       "12445   Harry Potter and the Deathly Hallows: Part 2  1327817822\n",
       "109445                                        Frozen  1274219009\n",
       "68721                                     Iron Man 3  1215439994"
      ]
     },
     "execution_count": 51,
     "metadata": {},
     "output_type": "execute_result"
    }
   ],
   "source": [
    "# Top 10 Movies in term of revenue\n",
    "df[['original_title', 'revenue']].sort_values(by='revenue', ascending=False)[:10]"
   ]
  },
  {
   "cell_type": "code",
   "execution_count": 52,
   "id": "b0971394",
   "metadata": {},
   "outputs": [],
   "source": [
    "# Create profit column\n",
    "df['profit'] = df['revenue'] - df['budget']\n",
    "movies_profit_df = df.groupby('original_title', as_index=False)['profit'].sum().sort_values(by='profit', ascending=False)[:10]"
   ]
  },
  {
   "cell_type": "code",
   "execution_count": 53,
   "id": "9e95f1aa",
   "metadata": {},
   "outputs": [
    {
     "data": {
      "image/png": "[encoded data removed]",
      "text/plain": [
       "<Figure size 800x600 with 1 Axes>"
      ]
     },
     "metadata": {},
     "output_type": "display_data"
    }
   ],
   "source": [
    "fig, ax = plt.subplots(figsize=(8, 6)) \n",
    "sns.barplot(\n",
    "    data=movies_profit_df,\n",
    "    x='original_title',\n",
    "    y='profit',\n",
    "    hue='original_title',\n",
    "    # width=0.9,\n",
    "    dodge=False,\n",
    "    ax=ax\n",
    ")\n",
    "plt.xticks([])  # plt.xticks(rotation=45, ha='right')\n",
    "plt.tight_layout()\n",
    "plt.show()"
   ]
  },
  {
   "cell_type": "code",
   "execution_count": 54,
   "id": "c22f5265",
   "metadata": {},
   "outputs": [
    {
     "data": {
      "text/plain": [
       "id\n",
       "46528    The Warrior's Way\n",
       "Name: original_title, dtype: object"
      ]
     },
     "execution_count": 54,
     "metadata": {},
     "output_type": "execute_result"
    }
   ],
   "source": [
    "# Which movie had the highest budget?\n",
    "df[df['budget'] == df['budget'].max()]['original_title']"
   ]
  },
  {
   "cell_type": "code",
   "execution_count": 55,
   "id": "2b09cbaa",
   "metadata": {},
   "outputs": [
    {
     "data": {
      "text/plain": [
       "id\n",
       "19995    Avatar\n",
       "Name: original_title, dtype: object"
      ]
     },
     "execution_count": 55,
     "metadata": {},
     "output_type": "execute_result"
    }
   ],
   "source": [
    "# Which movie had the highest ROI (Return on Investment)?\n",
    "df['ROI'] = df['revenue'] - df['budget'] / df['budget']\n",
    "df[df['ROI'] == df['ROI'].max()]['original_title']"
   ]
  },
  {
   "cell_type": "code",
   "execution_count": 56,
   "id": "0d05beb0",
   "metadata": {},
   "outputs": [
    {
     "data": {
      "text/html": [
       "<div>\n",
       "<style scoped>\n",
       "    .dataframe tbody tr th:only-of-type {\n",
       "        vertical-align: middle;\n",
       "    }\n",
       "\n",
       "    .dataframe tbody tr th {\n",
       "        vertical-align: top;\n",
       "    }\n",
       "\n",
       "    .dataframe thead th {\n",
       "        text-align: right;\n",
       "    }\n",
       "</style>\n",
       "<table border=\"1\" class=\"dataframe\">\n",
       "  <thead>\n",
       "    <tr style=\"text-align: right;\">\n",
       "      <th></th>\n",
       "      <th>popularity</th>\n",
       "      <th>budget</th>\n",
       "      <th>revenue</th>\n",
       "      <th>runtime</th>\n",
       "      <th>vote_count</th>\n",
       "      <th>vote_average</th>\n",
       "      <th>release_year</th>\n",
       "      <th>budget_adj</th>\n",
       "      <th>revenue_adj</th>\n",
       "      <th>profit</th>\n",
       "      <th>ROI</th>\n",
       "    </tr>\n",
       "  </thead>\n",
       "  <tbody>\n",
       "    <tr>\n",
       "      <th>popularity</th>\n",
       "      <td>1.00</td>\n",
       "      <td>0.45</td>\n",
       "      <td>0.62</td>\n",
       "      <td>0.22</td>\n",
       "      <td>0.78</td>\n",
       "      <td>0.32</td>\n",
       "      <td>0.17</td>\n",
       "      <td>0.40</td>\n",
       "      <td>0.55</td>\n",
       "      <td>0.60</td>\n",
       "      <td>0.62</td>\n",
       "    </tr>\n",
       "    <tr>\n",
       "      <th>budget</th>\n",
       "      <td>0.45</td>\n",
       "      <td>1.00</td>\n",
       "      <td>0.69</td>\n",
       "      <td>0.26</td>\n",
       "      <td>0.56</td>\n",
       "      <td>0.02</td>\n",
       "      <td>0.27</td>\n",
       "      <td>0.96</td>\n",
       "      <td>0.53</td>\n",
       "      <td>0.53</td>\n",
       "      <td>0.69</td>\n",
       "    </tr>\n",
       "    <tr>\n",
       "      <th>revenue</th>\n",
       "      <td>0.62</td>\n",
       "      <td>0.69</td>\n",
       "      <td>1.00</td>\n",
       "      <td>0.25</td>\n",
       "      <td>0.75</td>\n",
       "      <td>0.23</td>\n",
       "      <td>0.14</td>\n",
       "      <td>0.66</td>\n",
       "      <td>0.90</td>\n",
       "      <td>0.98</td>\n",
       "      <td>1.00</td>\n",
       "    </tr>\n",
       "    <tr>\n",
       "      <th>runtime</th>\n",
       "      <td>0.22</td>\n",
       "      <td>0.26</td>\n",
       "      <td>0.25</td>\n",
       "      <td>1.00</td>\n",
       "      <td>0.27</td>\n",
       "      <td>0.35</td>\n",
       "      <td>-0.11</td>\n",
       "      <td>0.33</td>\n",
       "      <td>0.28</td>\n",
       "      <td>0.22</td>\n",
       "      <td>0.25</td>\n",
       "    </tr>\n",
       "    <tr>\n",
       "      <th>vote_count</th>\n",
       "      <td>0.78</td>\n",
       "      <td>0.56</td>\n",
       "      <td>0.75</td>\n",
       "      <td>0.27</td>\n",
       "      <td>1.00</td>\n",
       "      <td>0.39</td>\n",
       "      <td>0.21</td>\n",
       "      <td>0.50</td>\n",
       "      <td>0.65</td>\n",
       "      <td>0.73</td>\n",
       "      <td>0.75</td>\n",
       "    </tr>\n",
       "    <tr>\n",
       "      <th>vote_average</th>\n",
       "      <td>0.32</td>\n",
       "      <td>0.02</td>\n",
       "      <td>0.23</td>\n",
       "      <td>0.35</td>\n",
       "      <td>0.39</td>\n",
       "      <td>1.00</td>\n",
       "      <td>-0.13</td>\n",
       "      <td>0.04</td>\n",
       "      <td>0.27</td>\n",
       "      <td>0.26</td>\n",
       "      <td>0.23</td>\n",
       "    </tr>\n",
       "    <tr>\n",
       "      <th>release_year</th>\n",
       "      <td>0.17</td>\n",
       "      <td>0.27</td>\n",
       "      <td>0.14</td>\n",
       "      <td>-0.11</td>\n",
       "      <td>0.21</td>\n",
       "      <td>-0.13</td>\n",
       "      <td>1.00</td>\n",
       "      <td>0.08</td>\n",
       "      <td>-0.10</td>\n",
       "      <td>0.09</td>\n",
       "      <td>0.14</td>\n",
       "    </tr>\n",
       "    <tr>\n",
       "      <th>budget_adj</th>\n",
       "      <td>0.40</td>\n",
       "      <td>0.96</td>\n",
       "      <td>0.66</td>\n",
       "      <td>0.33</td>\n",
       "      <td>0.50</td>\n",
       "      <td>0.04</td>\n",
       "      <td>0.08</td>\n",
       "      <td>1.00</td>\n",
       "      <td>0.57</td>\n",
       "      <td>0.50</td>\n",
       "      <td>0.66</td>\n",
       "    </tr>\n",
       "    <tr>\n",
       "      <th>revenue_adj</th>\n",
       "      <td>0.55</td>\n",
       "      <td>0.53</td>\n",
       "      <td>0.90</td>\n",
       "      <td>0.28</td>\n",
       "      <td>0.65</td>\n",
       "      <td>0.27</td>\n",
       "      <td>-0.10</td>\n",
       "      <td>0.57</td>\n",
       "      <td>1.00</td>\n",
       "      <td>0.91</td>\n",
       "      <td>0.90</td>\n",
       "    </tr>\n",
       "    <tr>\n",
       "      <th>profit</th>\n",
       "      <td>0.60</td>\n",
       "      <td>0.53</td>\n",
       "      <td>0.98</td>\n",
       "      <td>0.22</td>\n",
       "      <td>0.73</td>\n",
       "      <td>0.26</td>\n",
       "      <td>0.09</td>\n",
       "      <td>0.50</td>\n",
       "      <td>0.91</td>\n",
       "      <td>1.00</td>\n",
       "      <td>0.98</td>\n",
       "    </tr>\n",
       "    <tr>\n",
       "      <th>ROI</th>\n",
       "      <td>0.62</td>\n",
       "      <td>0.69</td>\n",
       "      <td>1.00</td>\n",
       "      <td>0.25</td>\n",
       "      <td>0.75</td>\n",
       "      <td>0.23</td>\n",
       "      <td>0.14</td>\n",
       "      <td>0.66</td>\n",
       "      <td>0.90</td>\n",
       "      <td>0.98</td>\n",
       "      <td>1.00</td>\n",
       "    </tr>\n",
       "  </tbody>\n",
       "</table>\n",
       "</div>"
      ],
      "text/plain": [
       "              popularity  budget  revenue  runtime  vote_count  vote_average  \\\n",
       "popularity          1.00    0.45     0.62     0.22        0.78          0.32   \n",
       "budget              0.45    1.00     0.69     0.26        0.56          0.02   \n",
       "revenue             0.62    0.69     1.00     0.25        0.75          0.23   \n",
       "runtime             0.22    0.26     0.25     1.00        0.27          0.35   \n",
       "vote_count          0.78    0.56     0.75     0.27        1.00          0.39   \n",
       "vote_average        0.32    0.02     0.23     0.35        0.39          1.00   \n",
       "release_year        0.17    0.27     0.14    -0.11        0.21         -0.13   \n",
       "budget_adj          0.40    0.96     0.66     0.33        0.50          0.04   \n",
       "revenue_adj         0.55    0.53     0.90     0.28        0.65          0.27   \n",
       "profit              0.60    0.53     0.98     0.22        0.73          0.26   \n",
       "ROI                 0.62    0.69     1.00     0.25        0.75          0.23   \n",
       "\n",
       "              release_year  budget_adj  revenue_adj  profit  ROI  \n",
       "popularity            0.17        0.40         0.55    0.60 0.62  \n",
       "budget                0.27        0.96         0.53    0.53 0.69  \n",
       "revenue               0.14        0.66         0.90    0.98 1.00  \n",
       "runtime              -0.11        0.33         0.28    0.22 0.25  \n",
       "vote_count            0.21        0.50         0.65    0.73 0.75  \n",
       "vote_average         -0.13        0.04         0.27    0.26 0.23  \n",
       "release_year          1.00        0.08        -0.10    0.09 0.14  \n",
       "budget_adj            0.08        1.00         0.57    0.50 0.66  \n",
       "revenue_adj          -0.10        0.57         1.00    0.91 0.90  \n",
       "profit                0.09        0.50         0.91    1.00 0.98  \n",
       "ROI                   0.14        0.66         0.90    0.98 1.00  "
      ]
     },
     "execution_count": 56,
     "metadata": {},
     "output_type": "execute_result"
    }
   ],
   "source": [
    "# Are high-budget movies always the most profitable?    --> Often\n",
    "pd.set_option('display.float_format', '{:,.2f}'.format)\n",
    "correlation_matrix = df.corr(numeric_only=True)\n",
    "correlation_matrix"
   ]
  },
  {
   "cell_type": "code",
   "execution_count": 57,
   "id": "0065f5eb",
   "metadata": {},
   "outputs": [
    {
     "data": {
      "image/png": "[encoded data removed]",
      "text/plain": [
       "<Figure size 900x600 with 2 Axes>"
      ]
     },
     "metadata": {},
     "output_type": "display_data"
    }
   ],
   "source": [
    "fig, ax = plt.subplots(figsize=(9, 6))\n",
    "sns.heatmap(correlation_matrix, \n",
    "            annot=True, \n",
    "            cmap='coolwarm', \n",
    "            fmt=\".2f\", \n",
    "            linewidths=.6,\n",
    "            ax=ax)\n",
    "# plt.tight_layout()\n",
    "plt.show()"
   ]
  },
  {
   "cell_type": "markdown",
   "id": "5dd8b490",
   "metadata": {},
   "source": [
    "### ✅ 3. Trends Over Time"
   ]
  },
  {
   "cell_type": "code",
   "execution_count": 58,
   "id": "24ccb8e8",
   "metadata": {},
   "outputs": [],
   "source": [
    "# How has the average budget changed over the years?\n",
    "adv_yr = df.groupby('release_year')['budget'].mean()"
   ]
  },
  {
   "cell_type": "code",
   "execution_count": 59,
   "id": "aea91c26",
   "metadata": {},
   "outputs": [
    {
     "name": "stderr",
     "output_type": "stream",
     "text": [
      "c:\\Users\\PC-MOH\\miniconda3\\Lib\\site-packages\\seaborn\\_oldcore.py:1119: FutureWarning: use_inf_as_na option is deprecated and will be removed in a future version. Convert inf values to NaN before operating instead.\n",
      "  with pd.option_context('mode.use_inf_as_na', True):\n",
      "c:\\Users\\PC-MOH\\miniconda3\\Lib\\site-packages\\seaborn\\_oldcore.py:1119: FutureWarning: use_inf_as_na option is deprecated and will be removed in a future version. Convert inf values to NaN before operating instead.\n",
      "  with pd.option_context('mode.use_inf_as_na', True):\n"
     ]
    },
    {
     "data": {
      "image/png": "[encoded data removed]",
      "text/plain": [
       "<Figure size 640x480 with 1 Axes>"
      ]
     },
     "metadata": {},
     "output_type": "display_data"
    }
   ],
   "source": [
    "fig, ax = plt.subplots()\n",
    "sns.lineplot(\n",
    "  data=adv_yr,\n",
    "  x=adv_yr.index,\n",
    "  y=adv_yr.values,\n",
    "  ax=ax\n",
    ")\n",
    "plt.ylabel('Average Budget')\n",
    "plt.show()"
   ]
  },
  {
   "cell_type": "code",
   "execution_count": 60,
   "id": "543900c3",
   "metadata": {},
   "outputs": [],
   "source": [
    "# How has the average revenue changed over the years?\n",
    "adv_rev = df.groupby('release_year')['revenue'].mean()"
   ]
  },
  {
   "cell_type": "code",
   "execution_count": 61,
   "id": "c41b3985",
   "metadata": {},
   "outputs": [
    {
     "name": "stderr",
     "output_type": "stream",
     "text": [
      "c:\\Users\\PC-MOH\\miniconda3\\Lib\\site-packages\\seaborn\\_oldcore.py:1119: FutureWarning: use_inf_as_na option is deprecated and will be removed in a future version. Convert inf values to NaN before operating instead.\n",
      "  with pd.option_context('mode.use_inf_as_na', True):\n",
      "c:\\Users\\PC-MOH\\miniconda3\\Lib\\site-packages\\seaborn\\_oldcore.py:1119: FutureWarning: use_inf_as_na option is deprecated and will be removed in a future version. Convert inf values to NaN before operating instead.\n",
      "  with pd.option_context('mode.use_inf_as_na', True):\n"
     ]
    },
    {
     "data": {
      "image/png": "[encoded data removed]",
      "text/plain": [
       "<Figure size 1000x500 with 1 Axes>"
      ]
     },
     "metadata": {},
     "output_type": "display_data"
    }
   ],
   "source": [
    "fig, ax = plt.subplots(figsize=(10,5))\n",
    "sns.lineplot(\n",
    "  data=adv_rev,\n",
    "  x=adv_rev.index,\n",
    "  y=adv_rev.values,\n",
    "  ax=ax\n",
    ")\n",
    "plt.ylabel('Average Revenue')\n",
    "plt.show()"
   ]
  },
  {
   "cell_type": "code",
   "execution_count": 62,
   "id": "ab59ecad",
   "metadata": {},
   "outputs": [
    {
     "data": {
      "text/plain": [
       "2011"
      ]
     },
     "execution_count": 62,
     "metadata": {},
     "output_type": "execute_result"
    }
   ],
   "source": [
    "# Which year had the highest number of releases?      =2011 (199)\n",
    "# df['release_year'].mode()\n",
    "df['release_year'].value_counts().idxmax()"
   ]
  },
  {
   "cell_type": "code",
   "execution_count": 63,
   "id": "f2b3ed1e",
   "metadata": {},
   "outputs": [],
   "source": [
    "# Has the popularity of movies increased over time?     =\"Yes With Most Releases\"\n",
    "adv_pop = df.groupby('release_year')['popularity'].sum()"
   ]
  },
  {
   "cell_type": "code",
   "execution_count": 64,
   "id": "abc542e4",
   "metadata": {},
   "outputs": [
    {
     "name": "stderr",
     "output_type": "stream",
     "text": [
      "c:\\Users\\PC-MOH\\miniconda3\\Lib\\site-packages\\seaborn\\_oldcore.py:1119: FutureWarning: use_inf_as_na option is deprecated and will be removed in a future version. Convert inf values to NaN before operating instead.\n",
      "  with pd.option_context('mode.use_inf_as_na', True):\n",
      "c:\\Users\\PC-MOH\\miniconda3\\Lib\\site-packages\\seaborn\\_oldcore.py:1119: FutureWarning: use_inf_as_na option is deprecated and will be removed in a future version. Convert inf values to NaN before operating instead.\n",
      "  with pd.option_context('mode.use_inf_as_na', True):\n"
     ]
    },
    {
     "data": {
      "image/png": "[encoded data removed]",
      "text/plain": [
       "<Figure size 640x480 with 1 Axes>"
      ]
     },
     "metadata": {},
     "output_type": "display_data"
    }
   ],
   "source": [
    "fig, ax = plt.subplots()\n",
    "sns.lineplot(\n",
    "  data=adv_pop,\n",
    "  x=adv_pop.index,\n",
    "  y=adv_pop.values\n",
    ")\n",
    "plt.show()"
   ]
  },
  {
   "cell_type": "code",
   "execution_count": null,
   "id": "c581a3e7",
   "metadata": {},
   "outputs": [],
   "source": []
  },
  {
   "cell_type": "markdown",
   "id": "7408bdc4",
   "metadata": {},
   "source": [
    "### ✅ 4. Popularity vs. Ratings"
   ]
  },
  {
   "cell_type": "markdown",
   "id": "1b4a530d",
   "metadata": {},
   "source": [
    "#### ▶️ Is there a correlation between popularity and vote average?     [=\"Yes About 32%\"]"
   ]
  },
  {
   "cell_type": "code",
   "execution_count": 65,
   "id": "9233bf3b",
   "metadata": {},
   "outputs": [
    {
     "data": {
      "text/html": [
       "<div>\n",
       "<style scoped>\n",
       "    .dataframe tbody tr th:only-of-type {\n",
       "        vertical-align: middle;\n",
       "    }\n",
       "\n",
       "    .dataframe tbody tr th {\n",
       "        vertical-align: top;\n",
       "    }\n",
       "\n",
       "    .dataframe thead th {\n",
       "        text-align: right;\n",
       "    }\n",
       "</style>\n",
       "<table border=\"1\" class=\"dataframe\">\n",
       "  <thead>\n",
       "    <tr style=\"text-align: right;\">\n",
       "      <th></th>\n",
       "      <th>popularity</th>\n",
       "      <th>vote_average</th>\n",
       "    </tr>\n",
       "  </thead>\n",
       "  <tbody>\n",
       "    <tr>\n",
       "      <th>popularity</th>\n",
       "      <td>1.00</td>\n",
       "      <td>0.32</td>\n",
       "    </tr>\n",
       "    <tr>\n",
       "      <th>vote_average</th>\n",
       "      <td>0.32</td>\n",
       "      <td>1.00</td>\n",
       "    </tr>\n",
       "  </tbody>\n",
       "</table>\n",
       "</div>"
      ],
      "text/plain": [
       "              popularity  vote_average\n",
       "popularity          1.00          0.32\n",
       "vote_average        0.32          1.00"
      ]
     },
     "execution_count": 65,
     "metadata": {},
     "output_type": "execute_result"
    }
   ],
   "source": [
    "df[['popularity', 'vote_average']].corr()"
   ]
  },
  {
   "cell_type": "markdown",
   "id": "e4902c21",
   "metadata": {},
   "source": [
    "#### ▶️ Is there a correlation between budget and revenue?     [=\"Yes About 69%\"]"
   ]
  },
  {
   "cell_type": "code",
   "execution_count": 66,
   "id": "3c4aaf09",
   "metadata": {},
   "outputs": [
    {
     "data": {
      "text/html": [
       "<div>\n",
       "<style scoped>\n",
       "    .dataframe tbody tr th:only-of-type {\n",
       "        vertical-align: middle;\n",
       "    }\n",
       "\n",
       "    .dataframe tbody tr th {\n",
       "        vertical-align: top;\n",
       "    }\n",
       "\n",
       "    .dataframe thead th {\n",
       "        text-align: right;\n",
       "    }\n",
       "</style>\n",
       "<table border=\"1\" class=\"dataframe\">\n",
       "  <thead>\n",
       "    <tr style=\"text-align: right;\">\n",
       "      <th></th>\n",
       "      <th>budget</th>\n",
       "      <th>revenue</th>\n",
       "    </tr>\n",
       "  </thead>\n",
       "  <tbody>\n",
       "    <tr>\n",
       "      <th>budget</th>\n",
       "      <td>1.00</td>\n",
       "      <td>0.69</td>\n",
       "    </tr>\n",
       "    <tr>\n",
       "      <th>revenue</th>\n",
       "      <td>0.69</td>\n",
       "      <td>1.00</td>\n",
       "    </tr>\n",
       "  </tbody>\n",
       "</table>\n",
       "</div>"
      ],
      "text/plain": [
       "         budget  revenue\n",
       "budget     1.00     0.69\n",
       "revenue    0.69     1.00"
      ]
     },
     "execution_count": 66,
     "metadata": {},
     "output_type": "execute_result"
    }
   ],
   "source": [
    "df[['budget', 'revenue']].corr()"
   ]
  },
  {
   "cell_type": "markdown",
   "id": "70e1b98b",
   "metadata": {},
   "source": [
    "#### ▶️ Do highly popular movies also have high ratings?      [=\"Yes there is a correlation of 78%\"]"
   ]
  },
  {
   "cell_type": "code",
   "execution_count": 67,
   "id": "8862c339",
   "metadata": {},
   "outputs": [
    {
     "data": {
      "text/html": [
       "<div>\n",
       "<style scoped>\n",
       "    .dataframe tbody tr th:only-of-type {\n",
       "        vertical-align: middle;\n",
       "    }\n",
       "\n",
       "    .dataframe tbody tr th {\n",
       "        vertical-align: top;\n",
       "    }\n",
       "\n",
       "    .dataframe thead th {\n",
       "        text-align: right;\n",
       "    }\n",
       "</style>\n",
       "<table border=\"1\" class=\"dataframe\">\n",
       "  <thead>\n",
       "    <tr style=\"text-align: right;\">\n",
       "      <th></th>\n",
       "      <th>popularity</th>\n",
       "      <th>vote_count</th>\n",
       "    </tr>\n",
       "  </thead>\n",
       "  <tbody>\n",
       "    <tr>\n",
       "      <th>popularity</th>\n",
       "      <td>1.00</td>\n",
       "      <td>0.78</td>\n",
       "    </tr>\n",
       "    <tr>\n",
       "      <th>vote_count</th>\n",
       "      <td>0.78</td>\n",
       "      <td>1.00</td>\n",
       "    </tr>\n",
       "  </tbody>\n",
       "</table>\n",
       "</div>"
      ],
      "text/plain": [
       "            popularity  vote_count\n",
       "popularity        1.00        0.78\n",
       "vote_count        0.78        1.00"
      ]
     },
     "execution_count": 67,
     "metadata": {},
     "output_type": "execute_result"
    }
   ],
   "source": [
    "df[['popularity', 'vote_count']].corr()"
   ]
  },
  {
   "cell_type": "markdown",
   "id": "577e247f",
   "metadata": {},
   "source": [
    "### ✅ 5. Genres & Performance"
   ]
  },
  {
   "cell_type": "markdown",
   "id": "0776c75c",
   "metadata": {},
   "source": [
    "#### ▶️ Which genre has the highest number of movies?"
   ]
  },
  {
   "cell_type": "code",
   "execution_count": 68,
   "id": "02db9269",
   "metadata": {},
   "outputs": [
    {
     "data": {
      "image/png": "[encoded data removed]",
      "text/plain": [
       "<Figure size 640x480 with 1 Axes>"
      ]
     },
     "metadata": {},
     "output_type": "display_data"
    }
   ],
   "source": [
    "fig, ax = plt.subplots()\n",
    "genres_df = df.groupby('genres').count()['original_title'].sort_values()\n",
    "plt.pie(\n",
    "  x=genres_df.values,\n",
    "  labels=genres_df.index,\n",
    "  startangle=90\n",
    ")\n",
    "plt.show()"
   ]
  },
  {
   "cell_type": "markdown",
   "id": "94be3794",
   "metadata": {},
   "source": [
    "#### ▶️ Which genre has the highest average revenue?"
   ]
  },
  {
   "cell_type": "code",
   "execution_count": 69,
   "id": "ed24b123",
   "metadata": {},
   "outputs": [
    {
     "data": {
      "text/plain": [
       "id\n",
       "19995    Action\n",
       "Name: genres, dtype: object"
      ]
     },
     "execution_count": 69,
     "metadata": {},
     "output_type": "execute_result"
    }
   ],
   "source": [
    "df[df['revenue'] == df['revenue'].max()]['genres']"
   ]
  },
  {
   "cell_type": "markdown",
   "id": "931e1156",
   "metadata": {},
   "source": [
    "#### ▶️ Which genre has the highest average vote rating?"
   ]
  },
  {
   "cell_type": "code",
   "execution_count": 70,
   "id": "53c80a9d",
   "metadata": {},
   "outputs": [
    {
     "data": {
      "text/plain": [
       "id\n",
       "278            Drama\n",
       "24128    Documentary\n",
       "Name: genres, dtype: object"
      ]
     },
     "execution_count": 70,
     "metadata": {},
     "output_type": "execute_result"
    }
   ],
   "source": [
    "df[df['vote_average'] == df['vote_average'].max()]['genres']"
   ]
  },
  {
   "cell_type": "markdown",
   "id": "7463fee6",
   "metadata": {},
   "source": [
    "#### ▶️ Do action movies have higher budgets than dramas?"
   ]
  },
  {
   "cell_type": "code",
   "execution_count": 71,
   "id": "40e191fc",
   "metadata": {},
   "outputs": [
    {
     "data": {
      "text/plain": [
       "True"
      ]
     },
     "execution_count": 71,
     "metadata": {},
     "output_type": "execute_result"
    }
   ],
   "source": [
    "genres_budget = df.groupby('genres')['budget'].mean()\n",
    "genres_budget = genres_budget.filter(regex='Action|Drama')\n",
    "genres_budget['Action'] > genres_budget['Drama']"
   ]
  },
  {
   "cell_type": "code",
   "execution_count": 72,
   "id": "475355c0",
   "metadata": {},
   "outputs": [
    {
     "data": {
      "image/png": "[encoded data removed]",
      "text/plain": [
       "<Figure size 1000x500 with 1 Axes>"
      ]
     },
     "metadata": {},
     "output_type": "display_data"
    }
   ],
   "source": [
    "fig, ax = plt.subplots(figsize=(10,5))\n",
    "ax.bar(\n",
    "  genres_budget.index,\n",
    "  genres_budget.values,\n",
    "  color=['C0', 'C1']\n",
    ")\n",
    "plt.show()"
   ]
  },
  {
   "cell_type": "markdown",
   "id": "ef6e6770",
   "metadata": {},
   "source": [
    "### ✅ 6. Cast & Directors\n"
   ]
  },
  {
   "cell_type": "markdown",
   "id": "5ff7a471",
   "metadata": {},
   "source": [
    "#### ▶️ Which director appears the most in the dataset?"
   ]
  },
  {
   "cell_type": "code",
   "execution_count": 73,
   "id": "59dbd151",
   "metadata": {},
   "outputs": [
    {
     "name": "stdout",
     "output_type": "stream",
     "text": [
      "<class 'pandas.core.series.Series'>\n",
      "Index: 3853 entries, 135397 to 2161\n",
      "Series name: cast\n",
      "Non-Null Count  Dtype \n",
      "--------------  ----- \n",
      "3849 non-null   object\n",
      "dtypes: object(1)\n",
      "memory usage: 189.2+ KB\n"
     ]
    }
   ],
   "source": [
    "df['cast'].info()   # Null values affect the process"
   ]
  },
  {
   "cell_type": "code",
   "execution_count": 74,
   "id": "cbf145b4",
   "metadata": {},
   "outputs": [
    {
     "data": {
      "text/plain": [
       "'Robert De Niro'"
      ]
     },
     "execution_count": 74,
     "metadata": {},
     "output_type": "execute_result"
    }
   ],
   "source": [
    "actors = df['cast'].dropna()\n",
    "actors = '|'.join(actors)\n",
    "actors = [str.strip(actor) for actor in actors.split('|')]\n",
    "pd.Series(actors).value_counts().idxmax()"
   ]
  },
  {
   "cell_type": "markdown",
   "id": "9a5b405f",
   "metadata": {},
   "source": [
    "#### ▶️ Which director has the highest average revenue for their movies?"
   ]
  },
  {
   "cell_type": "code",
   "execution_count": 75,
   "id": "3826487f",
   "metadata": {},
   "outputs": [
    {
     "data": {
      "image/png": "[encoded data removed]",
      "text/plain": [
       "<Figure size 1000x400 with 1 Axes>"
      ]
     },
     "metadata": {},
     "output_type": "display_data"
    }
   ],
   "source": [
    "director_plot_df = pd.DataFrame(df.groupby('director')['revenue'].mean().sort_values(ascending=False)).head(10)\n",
    "fig, ax = plt.subplots(figsize=(10, 4))\n",
    "sns.barplot(\n",
    "  data=director_plot_df,\n",
    "  x=director_plot_df.index,\n",
    "  y='revenue',\n",
    "  ax=ax\n",
    ")\n",
    "plt.tight_layout()\n",
    "plt.xticks(rotation=15)\n",
    "plt.show()"
   ]
  },
  {
   "cell_type": "code",
   "execution_count": 76,
   "id": "06afe5a4",
   "metadata": {},
   "outputs": [
    {
     "data": {
      "text/plain": [
       "'Chris Buck|Jennifer Lee'"
      ]
     },
     "execution_count": 76,
     "metadata": {},
     "output_type": "execute_result"
    }
   ],
   "source": [
    "df.groupby('director')['revenue'].mean().idxmax()"
   ]
  },
  {
   "cell_type": "markdown",
   "id": "6b866560",
   "metadata": {},
   "source": [
    "#### 😥❌ But some rows contains multiple directors 🤔"
   ]
  },
  {
   "cell_type": "code",
   "execution_count": 77,
   "id": "508e39a8",
   "metadata": {},
   "outputs": [
    {
     "data": {
      "text/html": [
       "<div>\n",
       "<style scoped>\n",
       "    .dataframe tbody tr th:only-of-type {\n",
       "        vertical-align: middle;\n",
       "    }\n",
       "\n",
       "    .dataframe tbody tr th {\n",
       "        vertical-align: top;\n",
       "    }\n",
       "\n",
       "    .dataframe thead th {\n",
       "        text-align: right;\n",
       "    }\n",
       "</style>\n",
       "<table border=\"1\" class=\"dataframe\">\n",
       "  <thead>\n",
       "    <tr style=\"text-align: right;\">\n",
       "      <th></th>\n",
       "      <th>director</th>\n",
       "      <th>revenue</th>\n",
       "    </tr>\n",
       "    <tr>\n",
       "      <th>id</th>\n",
       "      <th></th>\n",
       "      <th></th>\n",
       "    </tr>\n",
       "  </thead>\n",
       "  <tbody>\n",
       "    <tr>\n",
       "      <th>19995</th>\n",
       "      <td>[James Cameron]</td>\n",
       "      <td>2781505847</td>\n",
       "    </tr>\n",
       "    <tr>\n",
       "      <th>140607</th>\n",
       "      <td>[J.J. Abrams]</td>\n",
       "      <td>2068178225</td>\n",
       "    </tr>\n",
       "    <tr>\n",
       "      <th>597</th>\n",
       "      <td>[James Cameron]</td>\n",
       "      <td>1845034188</td>\n",
       "    </tr>\n",
       "    <tr>\n",
       "      <th>24428</th>\n",
       "      <td>[Joss Whedon]</td>\n",
       "      <td>1519557910</td>\n",
       "    </tr>\n",
       "    <tr>\n",
       "      <th>135397</th>\n",
       "      <td>[Colin Trevorrow]</td>\n",
       "      <td>1513528810</td>\n",
       "    </tr>\n",
       "    <tr>\n",
       "      <th>...</th>\n",
       "      <td>...</td>\n",
       "      <td>...</td>\n",
       "    </tr>\n",
       "    <tr>\n",
       "      <th>9431</th>\n",
       "      <td>[Gilbert Adler]</td>\n",
       "      <td>5</td>\n",
       "    </tr>\n",
       "    <tr>\n",
       "      <th>24914</th>\n",
       "      <td>[Shinichiro Watanabe]</td>\n",
       "      <td>5</td>\n",
       "    </tr>\n",
       "    <tr>\n",
       "      <th>14301</th>\n",
       "      <td>[Joss Whedon]</td>\n",
       "      <td>3</td>\n",
       "    </tr>\n",
       "    <tr>\n",
       "      <th>2293</th>\n",
       "      <td>[Kevin Smith]</td>\n",
       "      <td>2</td>\n",
       "    </tr>\n",
       "    <tr>\n",
       "      <th>13537</th>\n",
       "      <td>[Billy Ray]</td>\n",
       "      <td>2</td>\n",
       "    </tr>\n",
       "  </tbody>\n",
       "</table>\n",
       "<p>3852 rows × 2 columns</p>\n",
       "</div>"
      ],
      "text/plain": [
       "                     director     revenue\n",
       "id                                       \n",
       "19995         [James Cameron]  2781505847\n",
       "140607          [J.J. Abrams]  2068178225\n",
       "597           [James Cameron]  1845034188\n",
       "24428           [Joss Whedon]  1519557910\n",
       "135397      [Colin Trevorrow]  1513528810\n",
       "...                       ...         ...\n",
       "9431          [Gilbert Adler]           5\n",
       "24914   [Shinichiro Watanabe]           5\n",
       "14301           [Joss Whedon]           3\n",
       "2293            [Kevin Smith]           2\n",
       "13537             [Billy Ray]           2\n",
       "\n",
       "[3852 rows x 2 columns]"
      ]
     },
     "execution_count": 77,
     "metadata": {},
     "output_type": "execute_result"
    }
   ],
   "source": [
    "# Split directors lists in each row\n",
    "director_df = df[['director', 'revenue']].dropna().sort_values(by='revenue', ascending=False)\n",
    "director_df['director'] = df['director'].str.split('|')\n",
    "director_df"
   ]
  },
  {
   "cell_type": "code",
   "execution_count": 78,
   "id": "5a99904c",
   "metadata": {},
   "outputs": [
    {
     "data": {
      "text/html": [
       "<div>\n",
       "<style scoped>\n",
       "    .dataframe tbody tr th:only-of-type {\n",
       "        vertical-align: middle;\n",
       "    }\n",
       "\n",
       "    .dataframe tbody tr th {\n",
       "        vertical-align: top;\n",
       "    }\n",
       "\n",
       "    .dataframe thead th {\n",
       "        text-align: right;\n",
       "    }\n",
       "</style>\n",
       "<table border=\"1\" class=\"dataframe\">\n",
       "  <thead>\n",
       "    <tr style=\"text-align: right;\">\n",
       "      <th></th>\n",
       "      <th>director</th>\n",
       "      <th>revenue</th>\n",
       "    </tr>\n",
       "  </thead>\n",
       "  <tbody>\n",
       "    <tr>\n",
       "      <th>0</th>\n",
       "      <td>James Cameron</td>\n",
       "      <td>2781505847</td>\n",
       "    </tr>\n",
       "    <tr>\n",
       "      <th>1</th>\n",
       "      <td>J.J. Abrams</td>\n",
       "      <td>2068178225</td>\n",
       "    </tr>\n",
       "    <tr>\n",
       "      <th>2</th>\n",
       "      <td>James Cameron</td>\n",
       "      <td>1845034188</td>\n",
       "    </tr>\n",
       "    <tr>\n",
       "      <th>3</th>\n",
       "      <td>Joss Whedon</td>\n",
       "      <td>1519557910</td>\n",
       "    </tr>\n",
       "    <tr>\n",
       "      <th>4</th>\n",
       "      <td>Colin Trevorrow</td>\n",
       "      <td>1513528810</td>\n",
       "    </tr>\n",
       "    <tr>\n",
       "      <th>...</th>\n",
       "      <td>...</td>\n",
       "      <td>...</td>\n",
       "    </tr>\n",
       "    <tr>\n",
       "      <th>4158</th>\n",
       "      <td>Gilbert Adler</td>\n",
       "      <td>5</td>\n",
       "    </tr>\n",
       "    <tr>\n",
       "      <th>4159</th>\n",
       "      <td>Shinichiro Watanabe</td>\n",
       "      <td>5</td>\n",
       "    </tr>\n",
       "    <tr>\n",
       "      <th>4160</th>\n",
       "      <td>Joss Whedon</td>\n",
       "      <td>3</td>\n",
       "    </tr>\n",
       "    <tr>\n",
       "      <th>4161</th>\n",
       "      <td>Kevin Smith</td>\n",
       "      <td>2</td>\n",
       "    </tr>\n",
       "    <tr>\n",
       "      <th>4162</th>\n",
       "      <td>Billy Ray</td>\n",
       "      <td>2</td>\n",
       "    </tr>\n",
       "  </tbody>\n",
       "</table>\n",
       "<p>4163 rows × 2 columns</p>\n",
       "</div>"
      ],
      "text/plain": [
       "                 director     revenue\n",
       "0           James Cameron  2781505847\n",
       "1             J.J. Abrams  2068178225\n",
       "2           James Cameron  1845034188\n",
       "3             Joss Whedon  1519557910\n",
       "4         Colin Trevorrow  1513528810\n",
       "...                   ...         ...\n",
       "4158        Gilbert Adler           5\n",
       "4159  Shinichiro Watanabe           5\n",
       "4160          Joss Whedon           3\n",
       "4161          Kevin Smith           2\n",
       "4162            Billy Ray           2\n",
       "\n",
       "[4163 rows x 2 columns]"
      ]
     },
     "execution_count": 78,
     "metadata": {},
     "output_type": "execute_result"
    }
   ],
   "source": [
    "# Create a new dataframe that contains each individual's revenue.\n",
    "new_director_df = pd.DataFrame(columns=('director', 'revenue'))\n",
    "for row in director_df.values:\n",
    "  for director in row[0]:\n",
    "    new_director_df.loc[len(new_director_df)] = (str.strip(director), row[1])\n",
    "new_director_df"
   ]
  },
  {
   "cell_type": "code",
   "execution_count": 79,
   "id": "7a698900",
   "metadata": {},
   "outputs": [
    {
     "data": {
      "text/plain": [
       "'Jennifer Lee'"
      ]
     },
     "execution_count": 79,
     "metadata": {},
     "output_type": "execute_result"
    }
   ],
   "source": [
    "new_director_df.groupby('director')['revenue'].mean().idxmax()"
   ]
  },
  {
   "cell_type": "code",
   "execution_count": 80,
   "id": "a5150a13",
   "metadata": {},
   "outputs": [
    {
     "data": {
      "image/png": "[encoded data removed]",
      "text/plain": [
       "<Figure size 1000x400 with 1 Axes>"
      ]
     },
     "metadata": {},
     "output_type": "display_data"
    }
   ],
   "source": [
    "director_group_df = new_director_df.groupby('director', as_index=False)['revenue'].mean()\n",
    "director_group_df = director_group_df.sort_values(by='revenue', ascending=False).head(10)\n",
    "\n",
    "fig, ax = plt.subplots(figsize=(10, 4))\n",
    "sns.barplot(\n",
    "  data=director_group_df,\n",
    "  x=\"director\",\n",
    "  y=\"revenue\",\n",
    "  ax=ax\n",
    ")\n",
    "plt.tight_layout()\n",
    "plt.xticks(rotation=15)\n",
    "plt.show()"
   ]
  },
  {
   "cell_type": "markdown",
   "id": "c7634033",
   "metadata": {},
   "source": [
    "#### ▶️ Which movies have the largest cast size?\n"
   ]
  },
  {
   "cell_type": "markdown",
   "id": "fa700f52",
   "metadata": {},
   "source": [
    "#### Method1"
   ]
  },
  {
   "cell_type": "code",
   "execution_count": 81,
   "id": "61aa5836",
   "metadata": {},
   "outputs": [
    {
     "data": {
      "text/plain": [
       "id\n",
       "135397                     Jurassic World\n",
       "76341                  Mad Max: Fury Road\n",
       "262500                          Insurgent\n",
       "140607       Star Wars: The Force Awakens\n",
       "168259                          Furious 7\n",
       "                       ...               \n",
       "396       Who's Afraid of Virginia Woolf?\n",
       "5780                         Torn Curtain\n",
       "6644                            El Dorado\n",
       "5923                     The Sand Pebbles\n",
       "2161                     Fantastic Voyage\n",
       "Name: original_title, Length: 3815, dtype: object"
      ]
     },
     "execution_count": 81,
     "metadata": {},
     "output_type": "execute_result"
    }
   ],
   "source": [
    "df['cast_count'] = df['cast'].dropna().str.split('|').apply(lambda x: len(x))\n",
    "max_len = df['cast_count'].max()\n",
    "max_cast = df.loc[df['cast_count'] == max_len, 'original_title']\n",
    "max_cast"
   ]
  },
  {
   "cell_type": "markdown",
   "id": "f5d34ff6",
   "metadata": {},
   "source": [
    "#### Method2"
   ]
  },
  {
   "cell_type": "code",
   "execution_count": 82,
   "id": "03b0b82e",
   "metadata": {},
   "outputs": [
    {
     "data": {
      "text/plain": [
       "id\n",
       "135397                     Jurassic World\n",
       "76341                  Mad Max: Fury Road\n",
       "262500                          Insurgent\n",
       "140607       Star Wars: The Force Awakens\n",
       "168259                          Furious 7\n",
       "                       ...               \n",
       "396       Who's Afraid of Virginia Woolf?\n",
       "5780                         Torn Curtain\n",
       "6644                            El Dorado\n",
       "5923                     The Sand Pebbles\n",
       "2161                     Fantastic Voyage\n",
       "Name: original_title, Length: 3815, dtype: object"
      ]
     },
     "execution_count": 82,
     "metadata": {},
     "output_type": "execute_result"
    }
   ],
   "source": [
    "splited_cast_df = df['cast'].dropna().str.split('|')\n",
    "max_len = max([len(item) for item in splited_cast_df])    # max_len = [len(item) for item in splited_cast_df]\n",
    "max_cast = splited_cast_df[splited_cast_df.str.len() == max_len]\n",
    "df.loc[max_cast.index, 'original_title']"
   ]
  },
  {
   "cell_type": "markdown",
   "id": "b8c63167",
   "metadata": {},
   "source": [
    "### ✅ 7. Runtime & Performance\n",
    "#### ▶️ Does movie length affect popularity or ratings?"
   ]
  },
  {
   "cell_type": "code",
   "execution_count": 83,
   "id": "4be51bb8",
   "metadata": {},
   "outputs": [
    {
     "data": {
      "text/html": [
       "<div>\n",
       "<style scoped>\n",
       "    .dataframe tbody tr th:only-of-type {\n",
       "        vertical-align: middle;\n",
       "    }\n",
       "\n",
       "    .dataframe tbody tr th {\n",
       "        vertical-align: top;\n",
       "    }\n",
       "\n",
       "    .dataframe thead th {\n",
       "        text-align: right;\n",
       "    }\n",
       "</style>\n",
       "<table border=\"1\" class=\"dataframe\">\n",
       "  <thead>\n",
       "    <tr style=\"text-align: right;\">\n",
       "      <th></th>\n",
       "      <th>runtime</th>\n",
       "      <th>popularity</th>\n",
       "      <th>vote_average</th>\n",
       "    </tr>\n",
       "  </thead>\n",
       "  <tbody>\n",
       "    <tr>\n",
       "      <th>runtime</th>\n",
       "      <td>1.00</td>\n",
       "      <td>0.22</td>\n",
       "      <td>0.35</td>\n",
       "    </tr>\n",
       "    <tr>\n",
       "      <th>popularity</th>\n",
       "      <td>0.22</td>\n",
       "      <td>1.00</td>\n",
       "      <td>0.32</td>\n",
       "    </tr>\n",
       "    <tr>\n",
       "      <th>vote_average</th>\n",
       "      <td>0.35</td>\n",
       "      <td>0.32</td>\n",
       "      <td>1.00</td>\n",
       "    </tr>\n",
       "  </tbody>\n",
       "</table>\n",
       "</div>"
      ],
      "text/plain": [
       "              runtime  popularity  vote_average\n",
       "runtime          1.00        0.22          0.35\n",
       "popularity       0.22        1.00          0.32\n",
       "vote_average     0.35        0.32          1.00"
      ]
     },
     "execution_count": 83,
     "metadata": {},
     "output_type": "execute_result"
    }
   ],
   "source": [
    "df[['runtime', 'popularity', 'vote_average']].corr()"
   ]
  },
  {
   "cell_type": "markdown",
   "id": "33e37582",
   "metadata": {},
   "source": [
    "#### ▶️ What is the average runtime per genre?"
   ]
  },
  {
   "cell_type": "code",
   "execution_count": 84,
   "id": "104877ec",
   "metadata": {},
   "outputs": [
    {
     "data": {
      "text/plain": [
       "genres\n",
       "Action            110.48\n",
       "Adventure         114.80\n",
       "Animation          90.13\n",
       "Comedy            102.14\n",
       "Crime             114.85\n",
       "Documentary       101.97\n",
       "Drama             117.65\n",
       "Family             93.47\n",
       "Fantasy           104.52\n",
       "History           129.29\n",
       "Horror             97.77\n",
       "Music             107.97\n",
       "Mystery           106.61\n",
       "Romance           107.64\n",
       "Science Fiction   110.52\n",
       "TV Movie           89.00\n",
       "Thriller          110.27\n",
       "War               128.10\n",
       "Western           121.94\n",
       "Name: runtime, dtype: float64"
      ]
     },
     "execution_count": 84,
     "metadata": {},
     "output_type": "execute_result"
    }
   ],
   "source": [
    "df.groupby('genres')['runtime'].mean()"
   ]
  },
  {
   "cell_type": "markdown",
   "id": "ced71d5b",
   "metadata": {},
   "source": [
    "#### ▶️ How is the average runtime over the years?"
   ]
  },
  {
   "cell_type": "code",
   "execution_count": 85,
   "id": "7efd7c52",
   "metadata": {},
   "outputs": [
    {
     "name": "stderr",
     "output_type": "stream",
     "text": [
      "c:\\Users\\PC-MOH\\miniconda3\\Lib\\site-packages\\seaborn\\_oldcore.py:1119: FutureWarning: use_inf_as_na option is deprecated and will be removed in a future version. Convert inf values to NaN before operating instead.\n",
      "  with pd.option_context('mode.use_inf_as_na', True):\n",
      "c:\\Users\\PC-MOH\\miniconda3\\Lib\\site-packages\\seaborn\\_oldcore.py:1119: FutureWarning: use_inf_as_na option is deprecated and will be removed in a future version. Convert inf values to NaN before operating instead.\n",
      "  with pd.option_context('mode.use_inf_as_na', True):\n"
     ]
    },
    {
     "data": {
      "image/png": "[encoded data removed]",
      "text/plain": [
       "<Figure size 640x480 with 1 Axes>"
      ]
     },
     "metadata": {},
     "output_type": "display_data"
    }
   ],
   "source": [
    "runtime_df = df.groupby('release_year')['runtime'].mean()\n",
    "fig, ax = plt.subplots()\n",
    "sns.lineplot(\n",
    "  data=runtime_df,\n",
    "  x=runtime_df.index,\n",
    "  y=runtime_df.values\n",
    ")\n",
    "plt.show()"
   ]
  },
  {
   "cell_type": "markdown",
   "id": "6497ef48",
   "metadata": {},
   "source": [
    "### ✅ 8. Budget vs Revenue Adjustment\n",
    "#### ▶️ How do budget_adj and revenue_adj compare to original values?"
   ]
  },
  {
   "cell_type": "code",
   "execution_count": 86,
   "id": "5c0b6edc",
   "metadata": {},
   "outputs": [
    {
     "data": {
      "text/html": [
       "<div>\n",
       "<style scoped>\n",
       "    .dataframe tbody tr th:only-of-type {\n",
       "        vertical-align: middle;\n",
       "    }\n",
       "\n",
       "    .dataframe tbody tr th {\n",
       "        vertical-align: top;\n",
       "    }\n",
       "\n",
       "    .dataframe thead th {\n",
       "        text-align: right;\n",
       "    }\n",
       "</style>\n",
       "<table border=\"1\" class=\"dataframe\">\n",
       "  <thead>\n",
       "    <tr style=\"text-align: right;\">\n",
       "      <th></th>\n",
       "      <th>budget</th>\n",
       "      <th>budget_adj</th>\n",
       "    </tr>\n",
       "  </thead>\n",
       "  <tbody>\n",
       "    <tr>\n",
       "      <th>budget</th>\n",
       "      <td>1.00</td>\n",
       "      <td>0.96</td>\n",
       "    </tr>\n",
       "    <tr>\n",
       "      <th>budget_adj</th>\n",
       "      <td>0.96</td>\n",
       "      <td>1.00</td>\n",
       "    </tr>\n",
       "  </tbody>\n",
       "</table>\n",
       "</div>"
      ],
      "text/plain": [
       "            budget  budget_adj\n",
       "budget        1.00        0.96\n",
       "budget_adj    0.96        1.00"
      ]
     },
     "execution_count": 86,
     "metadata": {},
     "output_type": "execute_result"
    }
   ],
   "source": [
    "df[['budget', 'budget_adj']].corr()"
   ]
  },
  {
   "cell_type": "markdown",
   "id": "27275108",
   "metadata": {},
   "source": [
    "#### ▶️ Which year had the biggest adjustment difference?"
   ]
  },
  {
   "cell_type": "code",
   "execution_count": 87,
   "id": "82c3a52a",
   "metadata": {},
   "outputs": [
    {
     "data": {
      "text/plain": [
       "id\n",
       "8095    1963\n",
       "Name: release_year, dtype: int64"
      ]
     },
     "execution_count": 87,
     "metadata": {},
     "output_type": "execute_result"
    }
   ],
   "source": [
    "df['diff_budget'] = abs(df['budget'] - df['budget_adj'])\n",
    "df[df['diff_budget'] == df['diff_budget'].max()]['release_year']"
   ]
  },
  {
   "cell_type": "code",
   "execution_count": 88,
   "id": "15815dbc",
   "metadata": {},
   "outputs": [
    {
     "data": {
      "text/plain": [
       "1977"
      ]
     },
     "execution_count": 88,
     "metadata": {},
     "output_type": "execute_result"
    }
   ],
   "source": [
    "df['diff_revenue'] = abs(df['revenue'] - df['revenue_adj'])\n",
    "df.loc[df['diff_revenue'].idxmax(), 'release_year']"
   ]
  },
  {
   "cell_type": "markdown",
   "id": "8282c654",
   "metadata": {},
   "source": [
    "#### ▶️ Plot (Budget / Revenue)"
   ]
  },
  {
   "cell_type": "code",
   "execution_count": 89,
   "id": "3840b095",
   "metadata": {},
   "outputs": [
    {
     "name": "stderr",
     "output_type": "stream",
     "text": [
      "c:\\Users\\PC-MOH\\miniconda3\\Lib\\site-packages\\seaborn\\_oldcore.py:1119: FutureWarning: use_inf_as_na option is deprecated and will be removed in a future version. Convert inf values to NaN before operating instead.\n",
      "  with pd.option_context('mode.use_inf_as_na', True):\n",
      "c:\\Users\\PC-MOH\\miniconda3\\Lib\\site-packages\\seaborn\\_oldcore.py:1119: FutureWarning: use_inf_as_na option is deprecated and will be removed in a future version. Convert inf values to NaN before operating instead.\n",
      "  with pd.option_context('mode.use_inf_as_na', True):\n",
      "c:\\Users\\PC-MOH\\miniconda3\\Lib\\site-packages\\seaborn\\_oldcore.py:1119: FutureWarning: use_inf_as_na option is deprecated and will be removed in a future version. Convert inf values to NaN before operating instead.\n",
      "  with pd.option_context('mode.use_inf_as_na', True):\n",
      "c:\\Users\\PC-MOH\\miniconda3\\Lib\\site-packages\\seaborn\\_oldcore.py:1119: FutureWarning: use_inf_as_na option is deprecated and will be removed in a future version. Convert inf values to NaN before operating instead.\n",
      "  with pd.option_context('mode.use_inf_as_na', True):\n",
      "No artists with labels found to put in legend.  Note that artists whose label start with an underscore are ignored when legend() is called with no argument.\n"
     ]
    },
    {
     "data": {
      "image/png": "[encoded data removed]",
      "text/plain": [
       "<Figure size 1400x800 with 1 Axes>"
      ]
     },
     "metadata": {},
     "output_type": "display_data"
    }
   ],
   "source": [
    "fig, ax = plt.subplots(figsize=(14, 8))\n",
    "sns.lineplot(\n",
    "  data=df,\n",
    "  x='release_year',\n",
    "  y='budget_adj',\n",
    "  ax=ax\n",
    ")\n",
    "sns.lineplot(\n",
    "  data=df,\n",
    "  x='release_year',\n",
    "  y='revenue_adj',\n",
    "  ax=ax\n",
    ")\n",
    "plt.title('Budget / Revenue (Adjusted) Over Years')\n",
    "plt.xlabel('Release Years')\n",
    "plt.ylabel('Budget/Revenue ($)')\n",
    "plt.legend()\n",
    "plt.show()"
   ]
  },
  {
   "cell_type": "code",
   "execution_count": null,
   "id": "f174df7a",
   "metadata": {},
   "outputs": [],
   "source": []
  },
  {
   "cell_type": "markdown",
   "id": "7a26089b",
   "metadata": {},
   "source": [
    "# 😁💪 Quick Conclusions\n",
    "* Drama is the most popular genre, following by comedy, action and adventure.\n",
    "* 'Avatar', 'Star Wars' and 'Titanic' are the most profitable movies.\n",
    "* The budget and revenue are closely connected.\n",
    "* The maximum number of movies was released in 2011.\n",
    "* Average runtime of the movies has decreased over the years.\n",
    "* Jennifer Lee has the highest average revenue for her movies?\n",
    "* A corresponding increase in revenues has been observed for movies with higher budgets."
   ]
  }
 ],
 "metadata": {
  "kernelspec": {
   "display_name": "base",
   "language": "python",
   "name": "python3"
  },
  "language_info": {
   "codemirror_mode": {
    "name": "ipython",
    "version": 3
   },
   "file_extension": ".py",
   "mimetype": "text/x-python",
   "name": "python",
   "nbconvert_exporter": "python",
   "pygments_lexer": "ipython3",
   "version": "3.12.2"
  }
 },
 "nbformat": 4,
 "nbformat_minor": 5
}
